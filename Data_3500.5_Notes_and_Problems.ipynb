{
 "cells": [
  {
   "cell_type": "code",
   "execution_count": null,
   "metadata": {
    "colab": {},
    "colab_type": "code",
    "id": "_CUspuoRt25m"
   },
   "outputs": [],
   "source": [
    "import pandas as pd\n",
    "import matplotlib.pyplot as plt\n",
    "import numpy as np\n",
    "import seaborn as sns\n",
    "\n",
    "import yfinance as yf\n",
    "from copy import copy\n",
    "from scipy import stats\n",
    "import plotly.express as px\n",
    "from plotly.tools import FigureFactory as ff\n",
    "import plotly.graph_objects as go\n",
    "\n",
    "%load_ext autoreload\n",
    "%autoreload 2\n",
    "\n",
    "!pip install --upgrade git+https://github.com/MTSUDataScience/DATA3500.git\n",
    "\n",
    "from course_solutions.Data3500_ICPS import *"
   ]
  },
  {
   "cell_type": "code",
   "execution_count": null,
   "metadata": {},
   "outputs": [],
   "source": [
    "tickers = [\"AAPL\", \"BA\", \"T\", \"MGM\", \"AMZN\", \"IBM\", \"TSLA\", \"GOOG\", \"SPY\"]\n",
    "\n",
    "stocks_df = yf.download(tickers, start = \"2012-01-01\", end = \"2020-12-31\")['Adj Close'].reset_index()\n",
    "stocks_df.columns.name=None"
   ]
  },
  {
   "cell_type": "code",
   "execution_count": null,
   "metadata": {},
   "outputs": [],
   "source": [
    "stocks_df.head()"
   ]
  },
  {
   "cell_type": "code",
   "execution_count": null,
   "metadata": {},
   "outputs": [],
   "source": [
    "stocks_df.tail()"
   ]
  },
  {
   "cell_type": "code",
   "execution_count": null,
   "metadata": {
    "colab": {
     "base_uri": "https://localhost:8080/",
     "height": 415
    },
    "colab_type": "code",
    "executionInfo": {
     "elapsed": 1585,
     "status": "ok",
     "timestamp": 1598762146790,
     "user": {
      "displayName": "Stemplicity",
      "photoUrl": "https://lh3.googleusercontent.com/a-/AOh14Gj2vCFt-bD5mPBhUWX0QA6xiBgoXQXtwUm2jgjaCg=s64",
      "userId": "10668071569687886186"
     },
     "user_tz": 240
    },
    "id": "QTg_POeCuUeE",
    "outputId": "46801634-de59-42c7-ae96-6fee2e9a5ad5"
   },
   "outputs": [],
   "source": [
    "# Sort the stock data by date\n",
    "\n",
    "stocks_df = stocks_df.sort_values(by = ['Date'])\n",
    "stocks_df.head()"
   ]
  },
  {
   "cell_type": "code",
   "execution_count": null,
   "metadata": {
    "colab": {
     "base_uri": "https://localhost:8080/",
     "height": 35
    },
    "colab_type": "code",
    "executionInfo": {
     "elapsed": 1568,
     "status": "ok",
     "timestamp": 1598762146791,
     "user": {
      "displayName": "Stemplicity",
      "photoUrl": "https://lh3.googleusercontent.com/a-/AOh14Gj2vCFt-bD5mPBhUWX0QA6xiBgoXQXtwUm2jgjaCg=s64",
      "userId": "10668071569687886186"
     },
     "user_tz": 240
    },
    "id": "77rPtCs85NgU",
    "outputId": "c6055315-03dc-4720-e73a-554e0d1cc780"
   },
   "outputs": [],
   "source": [
    "# Print out the number of stocks\n",
    "\n",
    "print('Total Number of stocks : {}'.format(len(stocks_df.columns[1:])))"
   ]
  },
  {
   "cell_type": "code",
   "execution_count": null,
   "metadata": {
    "colab": {
     "base_uri": "https://localhost:8080/",
     "height": 191
    },
    "colab_type": "code",
    "executionInfo": {
     "elapsed": 1550,
     "status": "ok",
     "timestamp": 1598762146792,
     "user": {
      "displayName": "Stemplicity",
      "photoUrl": "https://lh3.googleusercontent.com/a-/AOh14Gj2vCFt-bD5mPBhUWX0QA6xiBgoXQXtwUm2jgjaCg=s64",
      "userId": "10668071569687886186"
     },
     "user_tz": 240
    },
    "id": "8wBR2CHA5O87",
    "outputId": "b873cb3b-fde8-4ab9-a438-de7213aeb81a"
   },
   "outputs": [],
   "source": [
    "# Print the name of stocks\n",
    "\n",
    "print('Stocks under consideration are:')\n",
    "print('-'*25)\n",
    "for i in stocks_df.columns[1:]:\n",
    "  print(i)"
   ]
  },
  {
   "cell_type": "markdown",
   "metadata": {
    "colab_type": "text",
    "id": "ubohn_-54V0Y"
   },
   "source": [
    "# **Problem #1:** \n",
    "- **What is the average price of the S&P500 (SPY)?**\n",
    "- **Which stock or index has the minimum dispersion (lowest standard deviation) from the mean in dollar value?**\n",
    "- **What is the maximum price for AMZN stock over the specified time period?** "
   ]
  },
  {
   "cell_type": "code",
   "execution_count": null,
   "metadata": {},
   "outputs": [],
   "source": [
    "# Place your answer to #1 here.\n",
    "# If you need help, you can use solution5_1().\n"
   ]
  },
  {
   "cell_type": "markdown",
   "metadata": {
    "colab_type": "text",
    "id": "qmba17fwuk83"
   },
   "source": [
    "## PERFORM EXPLORATORY DATA ANALYSIS AND BASIC VISUALIZATION"
   ]
  },
  {
   "cell_type": "code",
   "execution_count": null,
   "metadata": {
    "colab": {
     "base_uri": "https://localhost:8080/",
     "height": 208
    },
    "colab_type": "code",
    "executionInfo": {
     "elapsed": 1529,
     "status": "ok",
     "timestamp": 1598762146793,
     "user": {
      "displayName": "Stemplicity",
      "photoUrl": "https://lh3.googleusercontent.com/a-/AOh14Gj2vCFt-bD5mPBhUWX0QA6xiBgoXQXtwUm2jgjaCg=s64",
      "userId": "10668071569687886186"
     },
     "user_tz": 240
    },
    "id": "igiwssGruHHH",
    "outputId": "412220ae-9e7a-43cf-b3ed-895caffe4946"
   },
   "outputs": [],
   "source": [
    "# Check if data contains any null values\n",
    "\n",
    "stocks_df.isnull().sum()"
   ]
  },
  {
   "cell_type": "code",
   "execution_count": null,
   "metadata": {
    "colab": {
     "base_uri": "https://localhost:8080/",
     "height": 312
    },
    "colab_type": "code",
    "executionInfo": {
     "elapsed": 1509,
     "status": "ok",
     "timestamp": 1598762146793,
     "user": {
      "displayName": "Stemplicity",
      "photoUrl": "https://lh3.googleusercontent.com/a-/AOh14Gj2vCFt-bD5mPBhUWX0QA6xiBgoXQXtwUm2jgjaCg=s64",
      "userId": "10668071569687886186"
     },
     "user_tz": 240
    },
    "id": "0NCbEVYJuqND",
    "outputId": "7e02b336-f36a-435d-a3a2-aa5be89a0791"
   },
   "outputs": [],
   "source": [
    "# Getting dataframe info\n",
    "\n",
    "stocks_df.info()"
   ]
  },
  {
   "cell_type": "code",
   "execution_count": null,
   "metadata": {},
   "outputs": [],
   "source": [
    "stocks_df.plot(x = 'Date', figsize = (15,7), linewidth = 3, title = 'Figure without Function')\n",
    "plt.grid()\n",
    "plt.show()"
   ]
  },
  {
   "cell_type": "code",
   "execution_count": null,
   "metadata": {
    "colab": {},
    "colab_type": "code",
    "id": "_sYkHjZJuqTg"
   },
   "outputs": [],
   "source": [
    "# Define a function to plot the entire dataframe\n",
    "# The function takes in a dataframe df as an input argument and does not return anything back!\n",
    "# The function performs data visualization\n",
    "# Pandas works great with matplotlib, you can simply plot data directly from a Pandas DataFrame using plot() method\n",
    "\n",
    "def show_plot(df, fig_title):\n",
    "  df.plot(x = 'Date', figsize = (15,7), linewidth = 3, title = fig_title)\n",
    "  plt.grid()\n",
    "  plt.show()"
   ]
  },
  {
   "cell_type": "code",
   "execution_count": null,
   "metadata": {
    "colab": {
     "base_uri": "https://localhost:8080/",
     "height": 458
    },
    "colab_type": "code",
    "executionInfo": {
     "elapsed": 2614,
     "status": "ok",
     "timestamp": 1598762147928,
     "user": {
      "displayName": "Stemplicity",
      "photoUrl": "https://lh3.googleusercontent.com/a-/AOh14Gj2vCFt-bD5mPBhUWX0QA6xiBgoXQXtwUm2jgjaCg=s64",
      "userId": "10668071569687886186"
     },
     "user_tz": 240
    },
    "id": "HBLjDdvS81xD",
    "outputId": "326770f4-d843-495c-d27a-1bc72a0375ff"
   },
   "outputs": [],
   "source": [
    "# Plot the data\n",
    "\n",
    "show_plot(stocks_df, 'RAW STOCK PRICES (WITHOUT NORMALIZATION)')"
   ]
  },
  {
   "cell_type": "code",
   "execution_count": null,
   "metadata": {},
   "outputs": [],
   "source": [
    "stocks_df.head()"
   ]
  },
  {
   "cell_type": "code",
   "execution_count": null,
   "metadata": {},
   "outputs": [],
   "source": [
    "# Consider how to normalize our prices.\n",
    "# Function to normalize the prices based on the initial price\n",
    "# The function simply divides every stock by it's price at the start date (i.e.: Date = 2012-01-03)\t\n",
    "\n",
    "def normalize(df):\n",
    "  x = df.copy()\n",
    "\n",
    "  # Loop through each stock (while ignoring time columns with index 0)\n",
    "  for i in x.columns[1:]:\n",
    "    x[i] = x[i]/(x[i][0]) # For each value i in a column within x, divide the value by the first observation\n",
    "  return x"
   ]
  },
  {
   "cell_type": "code",
   "execution_count": null,
   "metadata": {},
   "outputs": [],
   "source": [
    "normalize(stocks_df)"
   ]
  },
  {
   "cell_type": "markdown",
   "metadata": {
    "colab_type": "text",
    "id": "yt7FZfV19_M5"
   },
   "source": [
    "# **Problem #2:**\n",
    "- **Graph normalized (scaled) stock prices using the two functions above**  \n"
   ]
  },
  {
   "cell_type": "code",
   "execution_count": null,
   "metadata": {
    "colab": {},
    "colab_type": "code",
    "id": "65qtrq5Q-d7A"
   },
   "outputs": [],
   "source": [
    "# Place your answer to #2 here.\n",
    "# If you need help, you can use solution5_2().\n"
   ]
  },
  {
   "cell_type": "markdown",
   "metadata": {
    "colab_type": "text",
    "id": "8L9gXztQ92TC"
   },
   "source": [
    "## PERFORM INTERACTIVE DATA VISUALIZATION"
   ]
  },
  {
   "cell_type": "code",
   "execution_count": null,
   "metadata": {
    "colab": {},
    "colab_type": "code",
    "id": "yUcMVHQQuqQZ"
   },
   "outputs": [],
   "source": [
    "# Function to perform an interactive data plotting using plotly express\n",
    "# Plotly.express module which is imported as px includes functions that can plot interactive plots easily and effectively. \n",
    "# Every Plotly Express function uses graph objects internally and returns a plotly.graph_objects.Figure instance. \n",
    "\n",
    "def interactive_plot(df, title):\n",
    "  fig = px.line(title = title)\n",
    "  \n",
    "  # Loop through each stock (while ignoring time columns with index 0)\n",
    "  for i in df.columns[1:]:\n",
    "    fig.add_scatter(x = df['Date'], y = df[i], name = i) # add a new Scatter trace\n",
    "\n",
    "  fig.show()"
   ]
  },
  {
   "cell_type": "code",
   "execution_count": null,
   "metadata": {
    "colab": {
     "base_uri": "https://localhost:8080/",
     "height": 542
    },
    "colab_type": "code",
    "executionInfo": {
     "elapsed": 3928,
     "status": "ok",
     "timestamp": 1598762149272,
     "user": {
      "displayName": "Stemplicity",
      "photoUrl": "https://lh3.googleusercontent.com/a-/AOh14Gj2vCFt-bD5mPBhUWX0QA6xiBgoXQXtwUm2jgjaCg=s64",
      "userId": "10668071569687886186"
     },
     "user_tz": 240
    },
    "id": "x3tsVq0Juz_b",
    "outputId": "35b4fcf8-d897-4e84-9f10-e7e1e25598c9"
   },
   "outputs": [],
   "source": [
    "# Plot interactive chart\n",
    "interactive_plot(stocks_df, 'Prices')"
   ]
  },
  {
   "cell_type": "markdown",
   "metadata": {
    "colab_type": "text",
    "id": "eEst3QL0AGNc"
   },
   "source": [
    "# **Problem #3:**\n",
    "- **Plot normalized stock data in an interactive way**\n",
    "- **It seems that most stocks experienced massive drops in 2020, let's assume that you own 100 shares of the S&P500 and you bought them on Feb 19th, 2020. How much did you lose (in $) by March 23rd, 2020?**\n"
   ]
  },
  {
   "cell_type": "code",
   "execution_count": null,
   "metadata": {},
   "outputs": [],
   "source": [
    "# Place your answer to #3 here.\n",
    "# If you need help, you can use solution5_3().\n",
    "\n",
    "\n",
    "solution5_3()"
   ]
  },
  {
   "cell_type": "markdown",
   "metadata": {
    "colab_type": "text",
    "id": "sy2lCzGi0Q9K"
   },
   "source": [
    "## CALCULATE INDIVIDUAL STOCKS PERCENT CHANGE"
   ]
  },
  {
   "cell_type": "code",
   "execution_count": null,
   "metadata": {},
   "outputs": [],
   "source": [
    "stocks_df['SPY']"
   ]
  },
  {
   "cell_type": "code",
   "execution_count": null,
   "metadata": {},
   "outputs": [],
   "source": [
    "# percent change = (today - yesterday) / yesterday\n",
    "\n",
    "# today = 12\n",
    "# yesterday = 10\n",
    "\n",
    "# percent change = (12 - 10) / 10\n",
    "# 2 / 10\n",
    "# .2\n",
    "# .2 * 100 = 20%"
   ]
  },
  {
   "cell_type": "code",
   "execution_count": null,
   "metadata": {
    "colab": {
     "base_uri": "https://localhost:8080/",
     "height": 225
    },
    "colab_type": "code",
    "executionInfo": {
     "elapsed": 3909,
     "status": "ok",
     "timestamp": 1598762149275,
     "user": {
      "displayName": "Stemplicity",
      "photoUrl": "https://lh3.googleusercontent.com/a-/AOh14Gj2vCFt-bD5mPBhUWX0QA6xiBgoXQXtwUm2jgjaCg=s64",
      "userId": "10668071569687886186"
     },
     "user_tz": 240
    },
    "id": "eAqHOkFREV-0",
    "outputId": "733bef8c-a598-4570-d03a-dcf34ab1a60b"
   },
   "outputs": [],
   "source": [
    "# Let's calculate daily return for a single security\n",
    "# Let's take the S&P500 as an example first\n",
    "\n",
    "df = stocks_df['SPY']\n",
    "\n",
    "# Define a dataframe names df_daily_return \n",
    "df_daily_return = df.copy()\n",
    "\n",
    "#Loop through every element in the dataframe\n",
    "for j in range(1, len(df)):\n",
    "\n",
    "  # Calculate the percentage of change from the previous day\n",
    "  df_daily_return[j] = ((df[j]- df[j-1])/df[j-1]) * 100\n",
    "\n",
    "# put zero in the first line item\n",
    "df_daily_return[0] = 0\n",
    "df_daily_return"
   ]
  },
  {
   "cell_type": "markdown",
   "metadata": {
    "colab_type": "text",
    "id": "ZmweQxu1F9b9"
   },
   "source": [
    "# **Problem #4:**\n",
    "- **Calculate the daily return for Amazon stock (AMZN).**\n"
   ]
  },
  {
   "cell_type": "code",
   "execution_count": null,
   "metadata": {},
   "outputs": [],
   "source": [
    "# Place your answer to #4 here.\n",
    "# If you need help, you can use solution5_4().\n"
   ]
  },
  {
   "cell_type": "markdown",
   "metadata": {
    "colab_type": "text",
    "id": "E_Ldvu42F0yI"
   },
   "source": [
    "## CALCULATE MULTIPLE STOCKS DAILY RETURNS"
   ]
  },
  {
   "cell_type": "code",
   "execution_count": null,
   "metadata": {},
   "outputs": [],
   "source": [
    "stocks_df.head()"
   ]
  },
  {
   "cell_type": "code",
   "execution_count": null,
   "metadata": {
    "colab": {},
    "colab_type": "code",
    "id": "BAYcdk5_J1X6"
   },
   "outputs": [],
   "source": [
    "# Let's define a function to calculate stocks daily returns (for all stocks) \n",
    "\n",
    "def daily_return(df):\n",
    "  df_daily_return = df.copy()\n",
    "\n",
    "  # Loop through each stock (while ignoring time columns with index 0)\n",
    "  for i in df.columns[1:]:\n",
    "    \n",
    "    # Loop through each row belonging to the stock\n",
    "    for j in range(1, len(df)):\n",
    "\n",
    "      # Calculate the percentage of change from the previous day\n",
    "      df_daily_return[i][j] = ((df[i][j]- df[i][j-1])/df[i][j-1]) * 100\n",
    "    \n",
    "    # set the value of first row to zero since the previous value is not available\n",
    "    df_daily_return[i][0] = 0\n",
    "  \n",
    "  return df_daily_return"
   ]
  },
  {
   "cell_type": "code",
   "execution_count": null,
   "metadata": {
    "colab": {},
    "colab_type": "code",
    "id": "gFxXpwVfWPaC"
   },
   "outputs": [],
   "source": [
    "# Get the daily returns \n",
    "\n",
    "stocks_daily_return = daily_return(stocks_df)\n",
    "stocks_daily_return"
   ]
  },
  {
   "cell_type": "markdown",
   "metadata": {
    "colab_type": "text",
    "id": "k-OTQRikGnXK"
   },
   "source": [
    "# **Problem #5:**\n",
    "- **Plot the returns vs. time using both static and interactive plots**\n",
    "- **What is the maximum daily return in % values obtained from the plots**"
   ]
  },
  {
   "cell_type": "code",
   "execution_count": null,
   "metadata": {
    "colab": {},
    "colab_type": "code",
    "id": "RY4Mz10LIMkN"
   },
   "outputs": [],
   "source": [
    "# Place your answer to #5 here.\n",
    "# If you need help, you can use solution5_5().\n"
   ]
  },
  {
   "cell_type": "markdown",
   "metadata": {
    "colab_type": "text",
    "id": "O0fakkYYINwa"
   },
   "source": [
    "## CALCULATE THE CORRELATIONS BETWEEN DAILY RETURNS "
   ]
  },
  {
   "cell_type": "code",
   "execution_count": null,
   "metadata": {
    "colab": {},
    "colab_type": "code",
    "id": "yO74euRqT5l7"
   },
   "outputs": [],
   "source": [
    "# Daily Return Correlation\n",
    "cm = stocks_daily_return.drop(columns = ['Date']).corr()"
   ]
  },
  {
   "cell_type": "code",
   "execution_count": null,
   "metadata": {
    "colab": {
     "base_uri": "https://localhost:8080/",
     "height": 595
    },
    "colab_type": "code",
    "executionInfo": {
     "elapsed": 6331,
     "status": "ok",
     "timestamp": 1598762151753,
     "user": {
      "displayName": "Stemplicity",
      "photoUrl": "https://lh3.googleusercontent.com/a-/AOh14Gj2vCFt-bD5mPBhUWX0QA6xiBgoXQXtwUm2jgjaCg=s64",
      "userId": "10668071569687886186"
     },
     "user_tz": 240
    },
    "id": "u5rLOxb-VaT_",
    "outputId": "6872e938-f998-44fc-b73b-546847b70432"
   },
   "outputs": [],
   "source": [
    "plt.figure(figsize=(10, 10))\n",
    "ax = plt.subplot()\n",
    "sns.heatmap(cm, annot = True, ax = ax);"
   ]
  },
  {
   "cell_type": "markdown",
   "metadata": {
    "colab_type": "text",
    "id": "5BODhJ55Jxde"
   },
   "source": [
    "# **Problem #6:**\n",
    "- **What are the top 2 stocks that are positively correlated with the S&P500 (SPY)?**\n",
    "- **What is the correlation between Amazon (AMZN) and Boeing (BA)? Comment on your answer**\n",
    "- **What is the correlation between MGM (MGM) and Boeing (BA)? Comment on your answer**"
   ]
  },
  {
   "cell_type": "code",
   "execution_count": null,
   "metadata": {
    "colab": {},
    "colab_type": "code",
    "id": "E9GPUJL5i1s4"
   },
   "outputs": [],
   "source": [
    "# Place your answer to #6 here.\n",
    "# If you need help, you can use solution5_6().\n"
   ]
  },
  {
   "cell_type": "markdown",
   "metadata": {
    "colab_type": "text",
    "id": "6o_TJSknK0nT"
   },
   "source": [
    "## PLOT THE HISTOGRAM FOR DAILY RETURNS"
   ]
  },
  {
   "cell_type": "code",
   "execution_count": null,
   "metadata": {
    "colab": {
     "base_uri": "https://localhost:8080/",
     "height": 607
    },
    "colab_type": "code",
    "executionInfo": {
     "elapsed": 8758,
     "status": "ok",
     "timestamp": 1598762154193,
     "user": {
      "displayName": "Stemplicity",
      "photoUrl": "https://lh3.googleusercontent.com/a-/AOh14Gj2vCFt-bD5mPBhUWX0QA6xiBgoXQXtwUm2jgjaCg=s64",
      "userId": "10668071569687886186"
     },
     "user_tz": 240
    },
    "id": "2XX_aVAXPOod",
    "outputId": "8270ef3d-6dc1-4285-c179-60111316d89d"
   },
   "outputs": [],
   "source": [
    "# Histogram of daily returns\n",
    "# Stock returns are normally distributed with zero mean \n",
    "# Notice how Tesla Standard deviation is high indicating a more volatile stock\n",
    "\n",
    "stocks_daily_return.hist(figsize=(10, 10), bins = 40);"
   ]
  },
  {
   "cell_type": "markdown",
   "metadata": {
    "colab_type": "text",
    "id": "BdLC2x_aLGOU"
   },
   "source": [
    "# **Problem #7:**\n",
    "- **Based on the histogram, which of the following stocks are more risky? T or TSLA**"
   ]
  },
  {
   "cell_type": "code",
   "execution_count": null,
   "metadata": {
    "colab": {},
    "colab_type": "code",
    "id": "pNmqCgEVLlKs"
   },
   "outputs": [],
   "source": [
    "# Place your answer to #7 here.\n",
    "# If you need help, you can use solution5_7().\n"
   ]
  },
  {
   "cell_type": "markdown",
   "metadata": {},
   "source": [
    "## LOOK AT THE RELATIONSHIP BETWEEN APPL AND SPY USING A REGRESSION"
   ]
  },
  {
   "cell_type": "code",
   "execution_count": null,
   "metadata": {},
   "outputs": [],
   "source": [
    "#Beta for a single stock\n",
    "#Select any stock\n",
    "\n",
    "stocks_daily_return['AAPL']"
   ]
  },
  {
   "cell_type": "code",
   "execution_count": null,
   "metadata": {},
   "outputs": [],
   "source": [
    "# Select the Market (SPY)\n",
    "\n",
    "stocks_daily_return['SPY']"
   ]
  },
  {
   "cell_type": "code",
   "execution_count": null,
   "metadata": {},
   "outputs": [],
   "source": [
    "# plot a scatter plot between the selected stock and the S&P500 (Market)\n",
    "\n",
    "stocks_daily_return.plot(kind = 'scatter', x = 'SPY', y = 'AAPL');"
   ]
  },
  {
   "cell_type": "code",
   "execution_count": null,
   "metadata": {},
   "outputs": [],
   "source": [
    "# Fit a polynomial between the selected stock and the S&P500 (Poly with order = 1 is a straight line)\n",
    "\n",
    "# beta represents the slope of the line regression line (market return vs. stock return). \n",
    "# Beta is a measure of the volatility or systematic risk of a security or portfolio compared to the entire market (S&P500) \n",
    "# Beta is used in the CAPM and describes the relationship between systematic risk and expected return for assets \n",
    "\n",
    "# Beta = 1.0, this indicates that its price activity is strongly correlated with the market. \n",
    "# Beta < 1, indicates that the security is theoretically less volatile than the market (Ex: Utility stocks). If the stock is included, this will make the portfolio less risky compared to the same portfolio without the stock.\n",
    "# Beta > 1, indicates that the security's price is more volatile than the market. For instance, Tesla stock beta is 1.26 indicating that it's 26% more volatile than the market. \n",
    "# Tech stocks generally have higher betas than S&P500 but they also have excess returns\n",
    "# MGM is 65% more volatile than the S&P500!\n",
    "\n",
    "\n",
    "beta, alpha = np.polyfit(stocks_daily_return['SPY'], stocks_daily_return['AAPL'], 1)\n",
    "\n",
    "\n",
    "print('Beta for {} stock is = {} and alpha is = {}'.format('AAPL', beta, alpha)) "
   ]
  },
  {
   "cell_type": "code",
   "execution_count": null,
   "metadata": {},
   "outputs": [],
   "source": [
    "# Now let's plot the scatter plot and the straight line on one plot\n",
    "\n",
    "stocks_daily_return.plot(kind = 'scatter', x = 'SPY', y = 'AAPL')\n",
    "\n",
    "# Straight line equation with alpha and beta parameters \n",
    "# Straight line equation is y = beta * rm + alpha\n",
    "\n",
    "plt.plot(stocks_daily_return['SPY'], beta * stocks_daily_return['SPY'] + alpha, '-', color = 'r');\n"
   ]
  },
  {
   "cell_type": "code",
   "execution_count": null,
   "metadata": {},
   "outputs": [],
   "source": [
    "# We can also do this with Seaborn and find the same line.\n",
    "\n",
    "ax = sns.regplot(x=\"SPY\", y=\"AAPL\", data=stocks_daily_return)"
   ]
  },
  {
   "cell_type": "markdown",
   "metadata": {},
   "source": [
    "# **Problem #8:**\n",
    "- **Create the seaborn (sns) style graph for all stocks in our sample using a function. Remember that we always want SPY on the x axis and the y axis values will alternate across all of our stocks**"
   ]
  },
  {
   "cell_type": "code",
   "execution_count": null,
   "metadata": {},
   "outputs": [],
   "source": [
    "# Place your answer to #8 here.\n",
    "# If you need help, you can use solution5_8().\n"
   ]
  },
  {
   "cell_type": "markdown",
   "metadata": {},
   "source": [
    "## USING THE REGRESSION OUT, PREDICT EXPECTED RETURN FOR A STOCK\n"
   ]
  },
  {
   "cell_type": "code",
   "execution_count": null,
   "metadata": {},
   "outputs": [],
   "source": [
    "# We can calculate the average daily rate of return for SPY (S&P 500)\n",
    "\n",
    "stocks_daily_return['SPY'].mean()"
   ]
  },
  {
   "cell_type": "code",
   "execution_count": null,
   "metadata": {},
   "outputs": [],
   "source": [
    "# Let's calculate the annualized rate of return for S&P500 \n",
    "# Note that out of 365 days/year, stock exchanges are closed for 104 days during weekend days (Saturday and Sunday) \n",
    "# Check your answers with: https://dqydj.com/sp-500-return-calculator/\n",
    "\n",
    "rm = stocks_daily_return['SPY'].mean() * 252\n",
    "rm"
   ]
  },
  {
   "cell_type": "code",
   "execution_count": null,
   "metadata": {},
   "outputs": [],
   "source": [
    "# Assume risk free rate is zero\n",
    "# Also you can use the yield of a 10-years U.S. Government bond as a risk free rate\n",
    "\n",
    "rf = 0 \n",
    "\n",
    "# Calculate return for any security (APPL) using CAPM  \n",
    "\n",
    "ER_AAPL = rf + ( beta * (rm-rf) ) \n",
    "ER_AAPL"
   ]
  },
  {
   "cell_type": "markdown",
   "metadata": {},
   "source": [
    "## REPEAT THE ABOVE BUT TO ALL STOCKS, NOT JUST ONE"
   ]
  },
  {
   "cell_type": "code",
   "execution_count": null,
   "metadata": {},
   "outputs": [],
   "source": [
    "# Let's create a placeholder for all betas and alphas (empty dictionaries)\n",
    "\n",
    "beta = {}\n",
    "alpha = {}\n",
    "\n",
    "# Loop on every stock daily return\n",
    "for i in stocks_daily_return.columns:\n",
    "\n",
    "  # Ignoring the date and S&P500 Columns \n",
    "  if i != 'Date' and i != 'SPY':\n",
    "        \n",
    "    # plot a scatter plot between each individual stock and the S&P500 (Market)\n",
    "    stocks_daily_return.plot(kind = 'scatter', x = 'SPY', y = i)\n",
    "    \n",
    "    # Fit a polynomial between each stock and the S&P500 (Poly with order = 1 is a straight line)\n",
    "    b, a = np.polyfit(stocks_daily_return['SPY'], stocks_daily_return[i], 1)\n",
    "    \n",
    "    plt.plot(stocks_daily_return['SPY'], b * stocks_daily_return['SPY'] + a, '-', color = 'r')\n",
    "    \n",
    "    beta[i] = b\n",
    "    \n",
    "    alpha[i] = a\n",
    "    \n",
    "    plt.show()"
   ]
  },
  {
   "cell_type": "code",
   "execution_count": null,
   "metadata": {},
   "outputs": [],
   "source": [
    "# Let's view Beta for every stock \n",
    "\n",
    "beta"
   ]
  },
  {
   "cell_type": "code",
   "execution_count": null,
   "metadata": {},
   "outputs": [],
   "source": [
    "# Let's view alpha for each of the stocks\n",
    "# Alpha describes the strategy's ability to beat the market (S&P500)\n",
    "# Alpha indicates the “excess return” or “abnormal rate of return,” \n",
    "# A positive 0.175 alpha for Tesla means that the portfolio’s return exceeded the benchmark S&P500 index by 17%.\n",
    "\n",
    "alpha"
   ]
  },
  {
   "cell_type": "markdown",
   "metadata": {},
   "source": [
    "# **Problem #9:**\n",
    "- **Calculate the expected return for each stock using a function**"
   ]
  },
  {
   "cell_type": "code",
   "execution_count": null,
   "metadata": {},
   "outputs": [],
   "source": [
    "# Place your answer to #9 here.\n",
    "# If you need help, you can use solution5_9().\n"
   ]
  },
  {
   "cell_type": "code",
   "execution_count": null,
   "metadata": {},
   "outputs": [],
   "source": [
    "# An alternative method that relies on already calculated inputs.\n",
    "\n",
    "keys = list(beta.keys())\n",
    "\n",
    "# Define the expected return dictionary\n",
    "ER = {}\n",
    "\n",
    "rf = 0 # assume risk free rate is zero in this case\n",
    "rm = stocks_daily_return['SPY'].mean() * 252 # this is the expected return of the market \n",
    "\n",
    "for i in keys:\n",
    "  # Calculate return for every security using CAPM  \n",
    "  ER[i] = rf + ( beta[i] * (rm-rf) )\n",
    "  print('Expected Return Based on CAPM for {} is {}%'.format(i, ER[i]))"
   ]
  },
  {
   "cell_type": "markdown",
   "metadata": {},
   "source": [
    "## CALCULATE THE EXPECTED RETURN FOR AN EQUAL WEIGHTED PORTFOLIO"
   ]
  },
  {
   "cell_type": "code",
   "execution_count": null,
   "metadata": {},
   "outputs": [],
   "source": [
    "p_weights = 1/len(stocks_daily_return.columns[1:-1]) * np.ones(len(stocks_daily_return.columns[1:-1]))\n",
    "p_weights"
   ]
  },
  {
   "cell_type": "code",
   "execution_count": null,
   "metadata": {},
   "outputs": [],
   "source": [
    "# Calculate the portfolio return \n",
    "\n",
    "ER_portfolio = sum(list(ER.values()) * p_weights)\n",
    "ER_portfolio"
   ]
  },
  {
   "cell_type": "code",
   "execution_count": null,
   "metadata": {},
   "outputs": [],
   "source": [
    "print('Expected Return Based on CAPM for the portfolio is {:.2f}%.'.format(ER_portfolio))"
   ]
  },
  {
   "cell_type": "markdown",
   "metadata": {},
   "source": [
    "# **Problem #10:**\n",
    "- **Calculate the expected return for the portfolio assuming we have 50% in Apple, 30% in Amazon, and 20% in Google. You can use the ER dictionary above and the weight_dictionary created below as a starting point.**"
   ]
  },
  {
   "cell_type": "code",
   "execution_count": null,
   "metadata": {},
   "outputs": [],
   "source": [
    "# Place your answer to #10 here.\n",
    "# If you need help, you can use solution5_10().\n",
    "\n",
    "keys = list(beta.keys())\n",
    "weight_dictionary = {}\n",
    "\n",
    "for i in keys:\n",
    "    weight_dictionary[i] = 0\n",
    "    \n",
    "weight_dictionary"
   ]
  }
 ],
 "metadata": {
  "colab": {
   "authorship_tag": "ABX9TyNATjBW2cW4BJuHXene7H75",
   "collapsed_sections": [],
   "name": "Finance 101 - Stocks Data Analysis and Visualization - Solution.ipynb",
   "provenance": []
  },
  "kernelspec": {
   "display_name": "pims_dear_db",
   "language": "python",
   "name": "python3"
  },
  "language_info": {
   "codemirror_mode": {
    "name": "ipython",
    "version": 3
   },
   "file_extension": ".py",
   "mimetype": "text/x-python",
   "name": "python",
   "nbconvert_exporter": "python",
   "pygments_lexer": "ipython3",
   "version": "3.9.12"
  },
  "vscode": {
   "interpreter": {
    "hash": "95ab7df5a79f3fa4619dac011ad2b72e54f6dce5fcf9c96afc2aa3742638724d"
   }
  }
 },
 "nbformat": 4,
 "nbformat_minor": 1
}
