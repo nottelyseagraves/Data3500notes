{
 "cells": [
  {
   "cell_type": "markdown",
   "metadata": {},
   "source": [
    "# **Solutions**\n",
    "- Run this cell before starting the notebook. You do not need to look at or understand the code. By running this, you will allow yourself to see solutions throughout the notebook as I ask you to solve problems."
   ]
  },
  {
   "cell_type": "code",
   "execution_count": null,
   "metadata": {},
   "outputs": [],
   "source": [
    "!conda install git\n",
    "\n"
   ]
  },
  {
   "cell_type": "code",
   "execution_count": null,
   "metadata": {},
   "outputs": [],
   "source": [
    "%%capture\n",
    "%load_ext autoreload\n",
    "%autoreload 2\n",
    "\n",
    "!pip install --upgrade git+https://github.com/MTSUDataScience/DATA3500.git\n",
    "\n",
    "from course_solutions.Data3500_ICPS import *"
   ]
  },
  {
   "cell_type": "markdown",
   "metadata": {},
   "source": [
    "### **Try the following problem #1**\n",
    "\n",
    "Suppose you have 100, which you can invest with a 10% return each year. After one year, it's worth 100 x 1.1 = 110, and after two years it's 100 x 1.1 x 1.1 = 121. How much money do you have after seven years?\n",
    "\n",
    "If you want to see the solution to this problem, run the code **solution1_1()** in an empty cell."
   ]
  },
  {
   "cell_type": "code",
   "execution_count": null,
   "metadata": {},
   "outputs": [],
   "source": [
    "# Try your answer to problem #1 here.\n",
    "# Remember that you can get an answer by running solution1_1()\n",
    "# You can run the solution code by removing the '#' below and\n",
    "# then running this cell.\n",
    "\n",
    "solution1_1()"
   ]
  },
  {
   "cell_type": "markdown",
   "metadata": {},
   "source": [
    "### **Try the following problem #2**\n",
    "\n",
    "Can you have your solution state that this is the total after 7 years? Can you include a '$' in front of the amount?\n",
    "\n",
    "If you want to see the solution to this problem, run the code **solution1_2()** in an empty cell."
   ]
  },
  {
   "cell_type": "code",
   "execution_count": null,
   "metadata": {},
   "outputs": [],
   "source": [
    "# Try your answer to problem #2 here.\n",
    "# Remember that you can get an answer by running solution1_2()\n",
    "# You can run the solution code by removing the '#' below and\n",
    "# then running this cell.\n",
    "\n",
    "solution1_2()"
   ]
  },
  {
   "cell_type": "markdown",
   "metadata": {},
   "source": [
    "### **Try the following problem #3**\n",
    "\n",
    "Can you create a new variable called BMI with the solution with the below variable values? Remember to actually create the height and weight variables as well. Why would you do this?\n",
    "height = 1.79 \n",
    "weight = 65.2 \n",
    "\n",
    "If you want to see the solution to this problem, run the code **solution1_3()** in an empty cell."
   ]
  },
  {
   "cell_type": "code",
   "execution_count": null,
   "metadata": {},
   "outputs": [],
   "source": [
    "# Try your answer to problem #3 here.\n",
    "# Remember that you can get an answer by running solution1_3()\n",
    "# You can run the solution code by removing the '#' below and\n",
    "# then running this cell.\n",
    "\n",
    "solution1_3()"
   ]
  },
  {
   "cell_type": "markdown",
   "metadata": {},
   "source": [
    "### **Try the following problem #4**\n",
    "Remember how we calculated the money you ended up with after 7 years of investing $100? You did something like:\n",
    "\n",
    "$$100 * 1.1 ** 7$$\n",
    "\n",
    "Instead of calculating the actual values, you can use variables instead. Create a **savings** variable which represents the $100 you start with. It is up to you to create a new variable as well to represent the 1.1 growth multiplier and redo the calculation.\n",
    "\n",
    "- Create a new variable called **savings** equal to the starting value of $100.\n",
    "- Create a new variable called **growth_multiplier** equal to 1.1.\n",
    "- Set the solution to a new variable called **result** and print out the value.\n",
    "\n",
    "If you want to see the solution to this problem, run the code **solution1_4()** in an empty cell."
   ]
  },
  {
   "cell_type": "code",
   "execution_count": null,
   "metadata": {},
   "outputs": [],
   "source": [
    "# Try your answer to problem #4 here.\n",
    "# Remember that you can get an answer by running solution1_4()\n",
    "# You can run the solution code by removing the '#' below and\n",
    "# then running this cell.\n",
    "\n",
    "solution1_4()"
   ]
  },
  {
   "cell_type": "markdown",
   "metadata": {},
   "source": [
    "### **Try the following problem #5**\n",
    "We will work with other data types now, including strings and booleans.\n",
    "\n",
    "- Create a new string called **desc** with the value 'compond interest'.\n",
    "- Create a new boolean called **profitable** with the value 'True'.\n",
    "\n",
    "If you want to see the solution to this problem, run the code **solution1_5()** in an empty cell."
   ]
  },
  {
   "cell_type": "code",
   "execution_count": null,
   "metadata": {},
   "outputs": [],
   "source": [
    "# Try your answer to problem #5 here.\n",
    "# Remember that you can get an answer by running solution1_5()\n",
    "# You can run the solution code by removing the '#' below and\n",
    "# then running this cell.\n",
    "\n",
    "solution1_5()"
   ]
  },
  {
   "cell_type": "markdown",
   "metadata": {},
   "source": [
    "### **Try the following problem #6**\n",
    "Remember that different data types behave differently in Python. For example, when you sum two strings together you will get a different behavior than when you sum two integers.\n",
    "\n",
    "- Calculate the product of **savings** and **growth_multiplier** and store the result in a new variable called **year1**.\n",
    "  - The value of **savings** and **growth_multiplier** come from your previous solutions.\n",
    "- What do you think the resulting type will be? Find out by printing the type of **year1**.\n",
    "- Calculate the sum of **desc** and **desc** and store the result in a new variable called **doubledesc**.\n",
    "- Print out **doubledesc**. Did you expect this?\n",
    "\n",
    "If you want to see the solution to this problem, run the code **solution1_6()** in an empty cell."
   ]
  },
  {
   "cell_type": "code",
   "execution_count": null,
   "metadata": {},
   "outputs": [],
   "source": [
    "# Try your answer to problem #6 here.\n",
    "# Remember that you can get an answer by running solution1_6()\n",
    "# You can run the solution code by removing the '#' below and\n",
    "# then running this cell.\n",
    "\n",
    "solution1_6()"
   ]
  },
  {
   "cell_type": "markdown",
   "metadata": {},
   "source": [
    "### **Try the following problem #7**\n",
    "Use the + operator to paste two strings together. Suppose you want to summarize the results of your investment with a string of text. Assuming you have defined **savings** and **result** before.\n",
    "\n",
    "print('I started with' + savings + ' and now have' + result + '.')\n",
    "\n",
    "Although this might seem like it will you, you will receive an error because you cannot sum strings and floats or integers. However, you can fix this by converting **savings** and **result** to string variables with the **str()** command. For example, you can convert **savings** to a string with **str(savings)**.\n",
    "\n",
    "Similar functions include **int()**, **float()**, and **bool()**.\n",
    "\n",
    "- Fix the print statement ('I started with' + savings + ' and now have' + result + '.')\n",
    "- Convert the variable **pi_string** (already created for you below) to a float and store this as a new variable **pi_float**.\n",
    "\n",
    "If you want to see the solution to this problem, run the code **solution1_7()** in an empty cell."
   ]
  },
  {
   "cell_type": "code",
   "execution_count": null,
   "metadata": {},
   "outputs": [],
   "source": [
    "# Try your answer to problem #7 here.\n",
    "# Remember that you can get an answer by running solution1_7()\n",
    "# You can run the solution code by removing the '#' below and\n",
    "# then running this cell.\n",
    "\n",
    "pi_string = '3.1415926'\n",
    "\n",
    "solution1_7()"
   ]
  },
  {
   "cell_type": "markdown",
   "metadata": {},
   "source": [
    "### **Try the following problem #8**\n",
    "Lists can contain variables that reference other values as well.\n",
    "- Create a list of lists with the following items and their area in square meters.\n",
    "  - hallway\n",
    "  - kitchen\n",
    "  - living room\n",
    "  - bedroom\n",
    "  - bathroom\n",
    "- Rather than putting the value of each room directly into the list, create a new set of variables with each room size.\n",
    "  - hall = 11.25\n",
    "  - kit = 18.0\n",
    "  - liv = 20.0\n",
    "  - bed = 10.75\n",
    "  - bath = 9.50\n",
    "- Print your new list.\n",
    "\n",
    "Don't get confused: 'hallway' is a string and **hall** is a variable that represents the size of the hallway or 11.25.\n",
    "\n",
    "If you want to see the solution to this problem, run the code **solution1_8()** in an empty cell."
   ]
  },
  {
   "cell_type": "code",
   "execution_count": null,
   "metadata": {},
   "outputs": [],
   "source": [
    "# Try your answer to problem #8 here.\n",
    "# Remember that you can get an answer by running solution1_8()\n",
    "# You can run the solution code by removing the '#' below and\n",
    "# then running this cell.\n",
    "\n",
    "solution1_8()"
   ]
  },
  {
   "cell_type": "markdown",
   "metadata": {},
   "source": [
    "### **Try the following problem #9**\n",
    "Let us return to our list of rooms and sizes. I have recreated the list below called **areas**.\n",
    "\n",
    "- Print out the second element from the **areas** list.\n",
    "- Subset and print out the last element of the **areas** list using negative indexing.\n",
    "- Select the number representing the area of the living room and print it out.\n",
    "\n",
    "If you want to see the solution to this problem, run the code **solution1_9()** in an empty cell."
   ]
  },
  {
   "cell_type": "code",
   "execution_count": null,
   "metadata": {},
   "outputs": [],
   "source": [
    "# Try your answer to problem #9 here.\n",
    "# Remember that you can get an answer by running solution1_9()\n",
    "# You can run the solution code by removing the '#' below and\n",
    "# then running this cell.\n",
    "\n",
    "areas = [\"hallway\", 11.25, \"kitchen\", 18.0, \"living room\", 20.0, \"bedroom\", 10.75, \"bathroom\", 9.50]\n",
    "\n",
    "solution1_9()"
   ]
  },
  {
   "cell_type": "markdown",
   "metadata": {},
   "source": [
    "### **Try the following problem #10**\n",
    "Let us return to our list of rooms and sizes. I have recreated the list below called **areas**.\n",
    "\n",
    "After extracting elements from a list you can perform additional calculations. For example, extracting the second and fourth element from the list **x** and pasting them together with the **+** operator is possible:\n",
    "\n",
    "**x = ['a', 'b', 'c', 'd']**\n",
    "\n",
    "**print(x[1] + x[2])**\n",
    "\n",
    "- Using list subsetting and variable assignment, create a new variable, **eat_sleep_areas** that contains the sum of the area of the kitchen and the area of the bedroom.\n",
    "- Print the new variable.\n",
    "\n",
    "If you want to see the solution to this problem, run the code **solution1_10()** in an empty cell."
   ]
  },
  {
   "cell_type": "code",
   "execution_count": null,
   "metadata": {},
   "outputs": [],
   "source": [
    "# Try your answer to problem #10 here.\n",
    "# Remember that you can get an answer by running solution1_10()\n",
    "# You can run the solution code by removing the '#' below and\n",
    "# then running this cell.\n",
    "\n",
    "areas = [\"hallway\", 11.25, \"kitchen\", 18.0, \"living room\", 20.0, \"bedroom\", 10.75, \"bathroom\", 9.50]\n",
    "\n",
    "solution1_10()"
   ]
  },
  {
   "cell_type": "markdown",
   "metadata": {},
   "source": [
    "### **Try the following problem #11**\n",
    "Let us return to our list of rooms and sizes. I have recreated the list below called **areas**.\n",
    "\n",
    "- Use slicing to createa a list called **downstairs** that contains the first six elements of **areas**.\n",
    "- Do a similar thing to create a new variable **upstairs** that contains the last 4 elements of **areas**.\n",
    "- Print both **downstairs** and **upstairs**.\n",
    "\n",
    "If you want to see the solution to this problem, run the code **solution1_11()** in an empty cell."
   ]
  },
  {
   "cell_type": "code",
   "execution_count": null,
   "metadata": {},
   "outputs": [],
   "source": [
    "# Try your answer to problem #11 here.\n",
    "# Remember that you can get an answer by running solution1_11()\n",
    "# You can run the solution code by removing the '#' below and\n",
    "# then running this cell.\n",
    "\n",
    "areas = [\"hallway\", 11.25, \"kitchen\", 18.0, \"living room\", 20.0, \"bedroom\", 10.75, \"bathroom\", 9.50]\n",
    "\n",
    "solution1_11()"
   ]
  },
  {
   "cell_type": "markdown",
   "metadata": {},
   "source": [
    "### **Try the following problem #12**\n",
    "Let us return to our list of rooms and sizes. I have recreated the list below called **areas**.\n",
    "\n",
    "- Update the area of the bathroom to be 10.50 instead of 9.50.\n",
    "- Make the **areas** list more informative by chaning 'bedroom' to 'master bedroom'\n",
    "\n",
    "If you want to see the solution to this problem, run the code **solution1_12()** in an empty cell."
   ]
  },
  {
   "cell_type": "code",
   "execution_count": null,
   "metadata": {},
   "outputs": [],
   "source": [
    "# Try your answer to problem #12 here.\n",
    "# Remember that you can get an answer by running solution1_12()\n",
    "# You can run the solution code by removing the '#' below and\n",
    "# then running this cell.\n",
    "\n",
    "areas = [\"hallway\", 11.25, \"kitchen\", 18.0, \"living room\", 20.0, \"bedroom\", 10.75, \"bathroom\", 9.50]\n",
    "\n",
    "solution1_12()"
   ]
  },
  {
   "cell_type": "markdown",
   "metadata": {},
   "source": [
    "### **Try the following problem #13**\n",
    "Let us return to our list of rooms and sizes. I have recreated the list below called **areas**.\n",
    "\n",
    "- Use the **+** operator to paste the list **['poolhouse', 24.5]** to the end of **areas** and store the result as **areas_1**.\n",
    "\n",
    "- Further extend **areas_1** by adding data on your garage. Add the string **'garage'** and float **15.45** to a new list **areas_2**.\n",
    "\n",
    "If you want to see the solution to this problem, run the code **solution1_13()** in an empty cell."
   ]
  },
  {
   "cell_type": "code",
   "execution_count": null,
   "metadata": {},
   "outputs": [],
   "source": [
    "# Try your answer to problem #13 here.\n",
    "# Remember that you can get an answer by running solution1_13()\n",
    "# You can run the solution code by removing the '#' below and\n",
    "# then running this cell.\n",
    "\n",
    "areas = [\"hallway\", 11.25, \"kitchen\", 18.0, \"living room\", 20.0, \"bedroom\", 10.75, \"bathroom\", 9.50]\n",
    "\n",
    "solution1_13()"
   ]
  },
  {
   "cell_type": "markdown",
   "metadata": {},
   "source": [
    "### **Try the following problem #14**\n",
    "Let us become more familiar with built in Python functions.\n",
    "- Use **print()** in combination with **type()** to print out the type of **var1**.\n",
    "- Use **len()** to get the length of the list **var1**. Wrap it in a **print()** function to print it out.\n",
    "- Use **int()** to convert **var2** to an integer and store it as **out2**.\n",
    "\n",
    "If you want to see the solution to this problem, run the code **solution1_14()** in an empty cell."
   ]
  },
  {
   "cell_type": "code",
   "execution_count": null,
   "metadata": {},
   "outputs": [],
   "source": [
    "# Try your answer to problem #14 here.\n",
    "# Remember that you can get an answer by running solution1_14()\n",
    "# You can run the solution code by removing the '#' below and\n",
    "# then running this cell.\n",
    "\n",
    "var1 = [1, 2, 3, 4]\n",
    "var2 = True\n",
    "\n",
    "solution1_14()"
   ]
  },
  {
   "cell_type": "markdown",
   "metadata": {},
   "source": [
    "### **Try the following problem #15**\n",
    "Let us become even more familiar with built in Python functions.\n",
    "\n",
    "Look at the documentation of **sorted()** by typing **help(sorted)**. You will see that **sorted()** takes three arguments: **iterable, key** and **reverse**.\n",
    "\n",
    "**key=None** means that if you don't specify the **key** argument, it will be **None**. **reverse=False** means that if you don't specify the **reverse** argument, it will be **False**.\n",
    "\n",
    "- Use **+** to merge the contents of **first** and **second** into a new list **full**.\n",
    "- Call **sorted()** on **full** and specify the **reverse** argument to be **True**. Save the sorted list as **full_sorted**.\n",
    "- Print **full_sorted**.\n",
    "\n",
    "If you want to see the solution to this problem, run the code **solution1_15()** in an empty cell."
   ]
  },
  {
   "cell_type": "code",
   "execution_count": null,
   "metadata": {},
   "outputs": [],
   "source": [
    "# Try your answer to problem #15 here.\n",
    "# Remember that you can get an answer by running solution1_15()\n",
    "# You can run the solution code by removing the '#' below and\n",
    "# then running this cell.\n",
    "\n",
    "first = [11.25, 18.0, 20.0]\n",
    "second = [10.75, 9.50]\n",
    "\n",
    "solution1_15()"
   ]
  },
  {
   "cell_type": "markdown",
   "metadata": {},
   "source": [
    "### **Try the following problem #16**\n",
    "We will now focus on working with methods. As a reminder, we can always type **help(str)** for assistance.\n",
    "- Use the **upper()** method on **place** and store the results in **place_up**.\n",
    "- Print out **place** and **place_up**. Did both change?\n",
    "- Print out the number of o's on the variable **place** by calling **count()** on **place** and passing the letter **'o'** as in input to the method. We are talking about the variable **place**, not the word 'place'.\n",
    "\n",
    "If you want to see the solution to this problem, run the code **solution1_16()** in an empty cell."
   ]
  },
  {
   "cell_type": "code",
   "execution_count": null,
   "metadata": {},
   "outputs": [],
   "source": [
    "# Try your answer to problem #16 here.\n",
    "# Remember that you can get an answer by running solution1_16()\n",
    "# You can run the solution code by removing the '#' below and\n",
    "# then running this cell.\n",
    "\n",
    "place = 'poolhouse'\n",
    "\n",
    "solution1_16()"
   ]
  },
  {
   "cell_type": "markdown",
   "metadata": {},
   "source": [
    "### **Try the following problem #17**\n",
    "We will continue working with methods. We will use **index()** to get the index of the first element of a list that matches its input and **count()** to get the number of times an element appears in a list.\n",
    "- Use the **index()** method to get the index of the element in areas that is equal to **20.0**. Print out this index.\n",
    "- Call **count()** on **areas** to find out how many times **9.50** appears in the list. Print this out as well.\n",
    "\n",
    "If you want to see the solution to this problem, run the code **solution1_17()** in an empty cell."
   ]
  },
  {
   "cell_type": "code",
   "execution_count": null,
   "metadata": {},
   "outputs": [],
   "source": [
    "# Try your answer to problem #17 here.\n",
    "# Remember that you can get an answer by running solution1_17()\n",
    "# You can run the solution code by removing the '#' below and\n",
    "# then running this cell.\n",
    "\n",
    "areas = [11.25, 18.0, 20.0, 10.75, 9.50] \n",
    "\n",
    "solution1_17()"
   ]
  },
  {
   "cell_type": "markdown",
   "metadata": {},
   "source": [
    "### **Try the following problem #18**\n",
    "We will continue working with methods. \n",
    "- Use **append()** twice to add the size of the poolhouse and the garage again. The poolhouse area is 24.5 and the garage area is 15.45.\n",
    "- Print out **areas**.\n",
    "- Use the **reverse()** method to reverse the order of the elements in **areas**.\n",
    "- Print out **areas** again.\n",
    "\n",
    "If you want to see the solution to this problem, run the code **solution1_18()** in an empty cell."
   ]
  },
  {
   "cell_type": "code",
   "execution_count": null,
   "metadata": {},
   "outputs": [],
   "source": [
    "# Try your answer to problem #18 here.\n",
    "# Remember that you can get an answer by running solution1_18()\n",
    "# You can run the solution code by removing the '#' below and\n",
    "# then running this cell.\n",
    "\n",
    "areas = [11.25, 18.0, 20.0, 10.75, 9.50]\n",
    "\n",
    "solution1_18()"
   ]
  },
  {
   "cell_type": "markdown",
   "metadata": {},
   "source": [
    "### **Try the following problem #19**\n",
    "We will now work with importing packages. If we want to know the circumference, **C**, and area, **A**, of a circle when the radius of the circle is **r**, you can calculate **C** and **A** as:\n",
    "$$C = 2(pi)r$$\n",
    "$$A = (pi)r^2$$\n",
    "But how we do get the value of **pi**? We can use the **math** package.\n",
    "- Import the **math** package. Now you can access the constant **pi** with **math.pi**.\n",
    "- Calculate the circumference of the circle and store it in **C**.\n",
    "- Calculate the area of the circle and store it in **A**.\n",
    "- Print both values.\n",
    "\n",
    "If you want to see the solution to this problem, run the code **solution1_19()** in an empty cell."
   ]
  },
  {
   "cell_type": "code",
   "execution_count": null,
   "metadata": {},
   "outputs": [],
   "source": [
    "# Try your answer to problem #19 here.\n",
    "# Remember that you can get an answer by running solution1_19()\n",
    "# You can run the solution code by removing the '#' below and\n",
    "# then running this cell.\n",
    "\n",
    "r = 0.43\n",
    "\n",
    "solution1_19()"
   ]
  },
  {
   "cell_type": "markdown",
   "metadata": {},
   "source": [
    "### **Try the following problem #20**\n",
    "A list of **baseball** is provided as the height of some baseball players in centimeters.\n",
    "- Import the **numpy** package as **np** so that you can refere to **numpy** with **np**.\n",
    "- Use **np.array()** to create a **numpy** array from **baseball**. Name this array **np_baseball**.\n",
    "- Print out the type of **np_baseball**.\n",
    "\n",
    "If you want to see the solution to this problem, run the code **solution1_20()** in an empty cell."
   ]
  },
  {
   "cell_type": "code",
   "execution_count": null,
   "metadata": {},
   "outputs": [],
   "source": [
    "# Try your answer to problem #20 here.\n",
    "# Remember that you can get an answer by running solution1_20()\n",
    "# You can run the solution code by removing the '#' below and\n",
    "# then running this cell.\n",
    "\n",
    "baseball = [180, 215, 210, 210, 188, 176, 209, 200]    \n",
    "\n",
    "solution1_20()"
   ]
  },
  {
   "cell_type": "markdown",
   "metadata": {},
   "source": [
    "### **Try the following problem #21**\n",
    "Major League Baseball provides you with a larger list of player heights in inches. This data comes in the form of a regular Python list, **height_in**.\n",
    "- Create a numpy array from **height_in** with the new name **np_height_in**.\n",
    "- print **np_height_in**.\n",
    "- Multiply **np_height_in** with 0.0254 to convert all height measurements from inches to meters. Store the new values in a new array called **np_height_m**.\n",
    "- Print **np_height_m**.\n",
    "\n",
    "If you want to see the solution to this problem, run the code **solution1_21()** in an empty cell."
   ]
  },
  {
   "cell_type": "code",
   "execution_count": null,
   "metadata": {},
   "outputs": [],
   "source": [
    "# Try your answer to problem #21 here.\n",
    "# Remember that you can get an answer by running solution1_21()\n",
    "# You can run the solution code by removing the '#' below and\n",
    "# then running this cell.\n",
    "\n",
    "height_in = [74, 74, 72, 72, 73, 69, 69, 71, 76, 71, 73, 73, \n",
    "             74, 74, 69, 70, 73, 75, 78, 79, 76, 74, 76, 72, \n",
    "             71, 75, 77, 74, 73, 74, 78, 73, 75, 73, 75, 75, \n",
    "             74, 69, 71, 74, 73, 73, 76, 74, 74, 70, 72, 77, \n",
    "             74, 70, 73, 75, 76, 76, 78, 74, 74, 76, 77, 81, \n",
    "             78, 75, 77, 75, 76, 74, 72, 72, 75, 73, 73, 73, \n",
    "             70, 70, 70, 76, 68, 71, 72, 75, 75, 75, 75, 68, \n",
    "             74, 78, 71, 73, 76, 74, 74, 79, 75, 73, 76, 74, \n",
    "             74, 73, 72, 74, 73, 74, 72, 73, 69, 72, 73, 75, \n",
    "             75, 73, 72, 72, 76, 74, 72, 77, 74, 77, 75, 76, \n",
    "             80, 74, 74, 75, 78, 73, 73, 74, 75, 76, 71, 73, \n",
    "             74, 76, 76, 74, 73, 74, 70, 72]   \n",
    "\n",
    "solution1_21()   "
   ]
  },
  {
   "cell_type": "markdown",
   "metadata": {},
   "source": [
    "### **Try the following problem #22**\n",
    "Major League Baseball also provides you with their weight data. Again, both are available as regular Python lists: **height_in** and **weight_lb**. **height_in** is in inches and **weight_lb** is in pounds.\n",
    "- Create a numpy array from the **weight_lb** list with the correct units. Multiply by 0.453592 to go from pounds to kilograms. Store the resulting **numpy** array as **np_weight_kg**.\n",
    "- Use **np_height_m** and **np_weight_kg** to calculate player BMI.\n",
    "$$BMI = weight(kg) / height(m)^2$$\n",
    "and save the **numpy** array as **bmi**.\n",
    "- Print **bmi**.\n",
    "\n",
    "If you want to see the solution to this problem, run the code **solution1_22()** in an empty cell."
   ]
  },
  {
   "cell_type": "code",
   "execution_count": null,
   "metadata": {},
   "outputs": [],
   "source": [
    "# Try your answer to problem #22 here.\n",
    "# Remember that you can get an answer by running solution1_22()\n",
    "# You can run the solution code by removing the '#' below and\n",
    "# then running this cell.\n",
    "\n",
    "height_in = [74, 74, 72, 72, 73, 69, 69, 71, 76, 71, 73, 73, \n",
    "             74, 74, 69, 70, 73, 75, 78, 79, 76, 74, 76, 72, \n",
    "             71, 75, 77, 74, 73, 74, 78, 73, 75, 73, 75, 75, \n",
    "             74, 69, 71, 74, 73, 73, 76, 74, 74, 70, 72, 77, \n",
    "             74, 70, 73, 75, 76, 76, 78, 74, 74, 76, 77, 81, \n",
    "             78, 75, 77, 75, 76, 74, 72, 72, 75, 73, 73, 73, \n",
    "             70, 70, 70, 76, 68, 71, 72, 75, 75, 75, 75, 68, \n",
    "             74, 78, 71, 73, 76, 74, 74, 79, 75, 73, 76, 74, \n",
    "             74, 73, 72, 74, 73, 74, 72, 73, 69, 72, 73, 75, \n",
    "             75, 73, 72, 72, 76, 74, 72, 77, 74, 77, 75, 76, \n",
    "             80, 74, 74, 75, 78, 73, 73, 74, 75, 76, 71, 73, \n",
    "             74, 76, 76, 74, 73, 74, 70, 72]   \n",
    "\n",
    "weight_lb = [180, 215, 210, 210, 188, 176, 209, 200, 231, 180,\n",
    "             188, 180, 185, 160, 180, 185, 189, 185, 219, 230, \n",
    "             205, 230, 195, 180, 192, 225, 203, 195, 182, 188, \n",
    "             200, 180, 200, 200, 245, 240, 215, 185, 175, 199, \n",
    "             200, 215, 200, 205, 206, 186, 188, 220, 210, 195, \n",
    "             200, 200, 212, 224, 210, 205, 220, 195, 200, 260, \n",
    "             228, 270, 200, 210, 190, 220, 180, 205, 210, 220, \n",
    "             211, 200, 180, 190, 170, 230, 155, 185, 185, 200, \n",
    "             225, 225, 220, 160, 205, 235, 250, 210, 190, 160, \n",
    "             200, 205, 222, 195, 205, 220, 220, 170, 185, 195, \n",
    "             220, 230, 180, 220, 180, 180, 170, 210, 215, 200, \n",
    "             213, 180, 192, 235, 185, 235, 210, 222, 210, 230, \n",
    "             220, 180, 190, 200, 210, 194, 180, 190, 240, 200, \n",
    "             198, 200, 195, 210, 220, 190, 210, 225, 180, 185] \n",
    "\n",
    "solution1_22()   "
   ]
  },
  {
   "cell_type": "markdown",
   "metadata": {},
   "source": [
    "### **Try the following problem #23**\n",
    "Major League Baseball wants you to identify all lightweight baseball players (ie. those with a bmi below 21).\n",
    "- Create a boolean **numpy** array: the element of the array should be **True** if the corresponding baseball player's BMI is below 21. You can use the **<** operator for this. Name the new array **light**.\n",
    "- Print the array **light**.\n",
    "- Print out a **numpy** array with the BMIs of all baseball players whose BMI is below 21. Use **light** inside square brackets to do a selection on the **bmi** array.\n",
    "\n",
    "If you want to see the solution to this problem, run the code **solution1_23()** in an empty cell."
   ]
  },
  {
   "cell_type": "code",
   "execution_count": null,
   "metadata": {},
   "outputs": [],
   "source": [
    "# Try your answer to problem #23 here.\n",
    "# Remember that you can get an answer by running solution1_23()\n",
    "# You can run the solution code by removing the '#' below and\n",
    "# then running this cell.\n",
    "\n",
    "height_in = [74, 74, 72, 72, 73, 69, 69, 71, 76, 71, 73, 73, \n",
    "             74, 74, 69, 70, 73, 75, 78, 79, 76, 74, 76, 72, \n",
    "             71, 75, 77, 74, 73, 74, 78, 73, 75, 73, 75, 75, \n",
    "             74, 69, 71, 74, 73, 73, 76, 74, 74, 70, 72, 77, \n",
    "             74, 70, 73, 75, 76, 76, 78, 74, 74, 76, 77, 81, \n",
    "             78, 75, 77, 75, 76, 74, 72, 72, 75, 73, 73, 73, \n",
    "             70, 70, 70, 76, 68, 71, 72, 75, 75, 75, 75, 68, \n",
    "             74, 78, 71, 73, 76, 74, 74, 79, 75, 73, 76, 74, \n",
    "             74, 73, 72, 74, 73, 74, 72, 73, 69, 72, 73, 75, \n",
    "             75, 73, 72, 72, 76, 74, 72, 77, 74, 77, 75, 76, \n",
    "             80, 74, 74, 75, 78, 73, 73, 74, 75, 76, 71, 73, \n",
    "             74, 76, 76, 74, 73, 74, 70, 72]   \n",
    "\n",
    "weight_lb = [180, 215, 210, 210, 188, 176, 209, 200, 231, 180,\n",
    "             188, 180, 185, 160, 180, 185, 189, 185, 219, 230, \n",
    "             205, 230, 195, 180, 192, 225, 203, 195, 182, 188, \n",
    "             200, 180, 200, 200, 245, 240, 215, 185, 175, 199, \n",
    "             200, 215, 200, 205, 206, 186, 188, 220, 210, 195, \n",
    "             200, 200, 212, 224, 210, 205, 220, 195, 200, 260, \n",
    "             228, 270, 200, 210, 190, 220, 180, 205, 210, 220, \n",
    "             211, 200, 180, 190, 170, 230, 155, 185, 185, 200, \n",
    "             225, 225, 220, 160, 205, 235, 250, 210, 190, 160, \n",
    "             200, 205, 222, 195, 205, 220, 220, 170, 185, 195, \n",
    "             220, 230, 180, 220, 180, 180, 170, 210, 215, 200, \n",
    "             213, 180, 192, 235, 185, 235, 210, 222, 210, 230, \n",
    "             220, 180, 190, 200, 210, 194, 180, 190, 240, 200, \n",
    "             198, 200, 195, 210, 220, 190, 210, 225, 180, 185] \n",
    "\n",
    "solution1_23()   "
   ]
  },
  {
   "cell_type": "markdown",
   "metadata": {},
   "source": [
    "### **Try the following problem #24**\n",
    "- Subset **np_weight_lb** by printing out the element at index 50. Remember we want the observation at index 50, not at the 50th spot. These are different because we use zero indexing (ie. the first observation is located at index 0).\n",
    "- Print out a sub-array of **np_height_in** that contains elements at index 100 up to *and including* index 110. Remember that the second number in your sub-array range is not included in the final sub-array.\n",
    "\n",
    "If you want to see the solution to this problem, run the code **solution1_24()** in an empty cell."
   ]
  },
  {
   "cell_type": "code",
   "execution_count": null,
   "metadata": {},
   "outputs": [],
   "source": [
    "# Try your answer to problem #24 here.\n",
    "# Remember that you can get an answer by running solution1_24()\n",
    "# You can run the solution code by removing the '#' below and\n",
    "# then running this cell.\n",
    "\n",
    "height_in = [74, 74, 72, 72, 73, 69, 69, 71, 76, 71, 73, 73, \n",
    "             74, 74, 69, 70, 73, 75, 78, 79, 76, 74, 76, 72, \n",
    "             71, 75, 77, 74, 73, 74, 78, 73, 75, 73, 75, 75, \n",
    "             74, 69, 71, 74, 73, 73, 76, 74, 74, 70, 72, 77, \n",
    "             74, 70, 73, 75, 76, 76, 78, 74, 74, 76, 77, 81, \n",
    "             78, 75, 77, 75, 76, 74, 72, 72, 75, 73, 73, 73, \n",
    "             70, 70, 70, 76, 68, 71, 72, 75, 75, 75, 75, 68, \n",
    "             74, 78, 71, 73, 76, 74, 74, 79, 75, 73, 76, 74, \n",
    "             74, 73, 72, 74, 73, 74, 72, 73, 69, 72, 73, 75, \n",
    "             75, 73, 72, 72, 76, 74, 72, 77, 74, 77, 75, 76, \n",
    "             80, 74, 74, 75, 78, 73, 73, 74, 75, 76, 71, 73, \n",
    "             74, 76, 76, 74, 73, 74, 70, 72]   \n",
    "\n",
    "weight_lb = [180, 215, 210, 210, 188, 176, 209, 200, 231, 180,\n",
    "             188, 180, 185, 160, 180, 185, 189, 185, 219, 230, \n",
    "             205, 230, 195, 180, 192, 225, 203, 195, 182, 188, \n",
    "             200, 180, 200, 200, 245, 240, 215, 185, 175, 199, \n",
    "             200, 215, 200, 205, 206, 186, 188, 220, 210, 195, \n",
    "             200, 200, 212, 224, 210, 205, 220, 195, 200, 260, \n",
    "             228, 270, 200, 210, 190, 220, 180, 205, 210, 220, \n",
    "             211, 200, 180, 190, 170, 230, 155, 185, 185, 200, \n",
    "             225, 225, 220, 160, 205, 235, 250, 210, 190, 160, \n",
    "             200, 205, 222, 195, 205, 220, 220, 170, 185, 195, \n",
    "             220, 230, 180, 220, 180, 180, 170, 210, 215, 200, \n",
    "             213, 180, 192, 235, 185, 235, 210, 222, 210, 230, \n",
    "             220, 180, 190, 200, 210, 194, 180, 190, 240, 200, \n",
    "             198, 200, 195, 210, 220, 190, 210, 225, 180, 185] \n",
    "\n",
    "solution1_24()  "
   ]
  },
  {
   "cell_type": "markdown",
   "metadata": {},
   "source": [
    "### **Try the following problem #25**\n",
    "Lets start with a list of lists which contains 4 elements. Each element is a list containing the height and weight of 4 baseball players. **baseball** is already created for you.\n",
    "- Use **np.array()** to create a 2D **numpy** array from **baseball**. Name it **np_baseball**.\n",
    "- Print out the type of **np_baseball**.\n",
    "- Print out the **shape** attribute of **np_baseball**. Use **np_baseball.shape**.\n",
    "\n",
    "If you want to see the solution to this problem, run the code **solution1_25()** in an empty cell."
   ]
  },
  {
   "cell_type": "code",
   "execution_count": null,
   "metadata": {},
   "outputs": [],
   "source": [
    "# Try your answer to problem #25 here.\n",
    "# Remember that you can get an answer by running solution1_25()\n",
    "# You can run the solution code by removing the '#' below and\n",
    "# then running this cell.\n",
    "\n",
    "baseball = [[180, 78.4],\n",
    "            [215, 102.7],\n",
    "            [210, 98.5],\n",
    "            [188, 75.2]]               \n",
    "\n",
    "solution1_25()  "
   ]
  },
  {
   "cell_type": "markdown",
   "metadata": {},
   "source": [
    "### **Try the following problem #26**\n",
    "The MLB has provided us with a Python list of lists that contains the height and weight 15 baseball players. This list of lists is provided as **baseball**.\n",
    "- Use **np_array()** to create a 2D **numpy** array from **baseball**. Name it **np_baseball**. Remember how to extract elements from a **numpy** array. For example, x = [['a', 'b'], ['c', 'd']]. To extract element 'c' and 'd', we can use np_x = [:,0].\n",
    "- Print out the **shape** attribute of **np_baseball**.\n",
    "- Print out the the 8th row of **np_baseball**.\n",
    "- Make a new variable, **np_weight_lb**, containing the entire second column of **np_baseball**.\n",
    "- Select the height (first column) of the 12th baseball player in **np_baseball** and print it out.\n",
    "\n",
    "If you want to see the solution to this problem, run the code **solution1_26()** in an empty cell."
   ]
  },
  {
   "cell_type": "code",
   "execution_count": null,
   "metadata": {},
   "outputs": [],
   "source": [
    "# Try your answer to problem #26 here.\n",
    "# Remember that you can get an answer by running solution1_26()\n",
    "# You can run the solution code by removing the '#' below and\n",
    "# then running this cell.\n",
    "\n",
    "baseball = [[74, 180],\n",
    "            [74, 215],\n",
    "            [72, 210],\n",
    "            [72, 210],\n",
    "            [73, 188],\n",
    "            [69, 176],\n",
    "            [69, 209],\n",
    "            [71, 200],\n",
    "            [76, 231],\n",
    "            [71, 180],\n",
    "            [73, 188],\n",
    "            [73, 180],\n",
    "            [74, 185],\n",
    "            [74, 160],\n",
    "            [69, 180]]             \n",
    "\n",
    "solution1_26()  "
   ]
  },
  {
   "cell_type": "markdown",
   "metadata": {},
   "source": [
    "### **Try the following problem #27**\n",
    "We can apply arithmetic to 2D arrays just as easily as we did for a 1D array. **baseball** now contains a 3rd column for age.\n",
    "- We now have a a 2D **numpy** array called **updated** that contains the change in height, weight, and age of all baseball players in our **baseball** list of lists. Add **np_baseball** and **updated** together than print the result.\n",
    "- You want to convert the units of height and weight to metric. As a first step, create a **numpy** array with three values: **0.0254**, **0.453592**, and **1**. Name this **conversion**.\n",
    "- Multiply **np_baseball** with **conversion** and print the results.\n",
    "\n",
    "If you want to see the solution to this problem, run the code **solution1_27()** in an empty cell."
   ]
  },
  {
   "cell_type": "code",
   "execution_count": null,
   "metadata": {},
   "outputs": [],
   "source": [
    "# Try your answer to problem #27 here.\n",
    "# Remember that you can get an answer by running solution1_27()\n",
    "# You can run the solution code by removing the '#' below and\n",
    "# then running this cell.\n",
    "\n",
    "baseball = [[74, 180, 23.87],\n",
    "            [74, 215, 21.96],\n",
    "            [72, 210, 29.76],\n",
    "            [72, 210, 22.88],\n",
    "            [73, 188, 27.54],\n",
    "            [69, 176, 41.91],\n",
    "            [69, 209, 19.98],\n",
    "            [71, 200, 24.55],\n",
    "            [76, 231, 24.91],\n",
    "            [71, 180, 28.23],\n",
    "            [73, 188, 29.17],\n",
    "            [73, 180, 24.69],\n",
    "            [74, 185, 21.83],\n",
    "            [74, 160, 22.76],\n",
    "            [69, 180, 25.12]]\n",
    "\n",
    "updated = [[1.2303559 , -11.16224898, 1],\n",
    "           [1.02614252,  16.09732309, 1],\n",
    "           [1.1544228 ,   5.08167641, 1],\n",
    "           [1.42614252,   9.09732309, 1],\n",
    "           [1.1244228 ,   5.08167641, 1],   \n",
    "           [1.53614252,   6.09732309, 1],\n",
    "           [1.1944228 ,   5.08167641, 1],   \n",
    "           [1.86614252,  11.24732309, 1],\n",
    "           [1.2244228 ,   5.26167641, 1],   \n",
    "           [1.85614252,  14.09732309, 1],\n",
    "           [1.1549278 ,   8.08167641, 1],   \n",
    "           [1.02837593,  19.09732309, 1],\n",
    "           [1.1775937 ,   1.98167641, 1],   \n",
    "           [1.17393793,  17.37732309, 1],\n",
    "           [1.1125222 ,   5.11167641, 1]]   \n",
    "\n",
    "solution1_27()  "
   ]
  },
  {
   "cell_type": "markdown",
   "metadata": {},
   "source": [
    "### **Try the following problem #28**\n",
    "After looking at the height, weight, and age data from **baseball**, you notice that some height values are abnormally high. Lets investigate.\n",
    "- Create a **numpy** array **np_height_in** that is equal to the first column of **np_baseball**.\n",
    "- Print out the mean of **np_height_in**.\n",
    "- Print out the median of **np_height_in**.\n",
    "If you want to see the solution to this problem, run the code **solution1_28()** in an empty cell."
   ]
  },
  {
   "cell_type": "code",
   "execution_count": 7,
   "metadata": {},
   "outputs": [
    {
     "ename": "TypeError",
     "evalue": "list indices must be integers or slices, not tuple",
     "output_type": "error",
     "traceback": [
      "\u001b[1;31m---------------------------------------------------------------------------\u001b[0m",
      "\u001b[1;31mTypeError\u001b[0m                                 Traceback (most recent call last)",
      "\u001b[1;32m~\\AppData\\Local\\Temp\\ipykernel_18708\\3651288116.py\u001b[0m in \u001b[0;36m<module>\u001b[1;34m\u001b[0m\n\u001b[0;32m     20\u001b[0m             [69, 180, 25.12]]     \n\u001b[0;32m     21\u001b[0m \u001b[1;33m\u001b[0m\u001b[0m\n\u001b[1;32m---> 22\u001b[1;33m \u001b[0mheight\u001b[0m \u001b[1;33m=\u001b[0m \u001b[0mnp\u001b[0m\u001b[1;33m.\u001b[0m\u001b[0marray\u001b[0m\u001b[1;33m(\u001b[0m\u001b[0mbaseball\u001b[0m\u001b[1;33m[\u001b[0m\u001b[1;33m:\u001b[0m\u001b[1;33m,\u001b[0m\u001b[1;36m0\u001b[0m\u001b[1;33m]\u001b[0m\u001b[1;33m)\u001b[0m\u001b[1;33m\u001b[0m\u001b[1;33m\u001b[0m\u001b[0m\n\u001b[0m\u001b[0;32m     23\u001b[0m \u001b[1;33m\u001b[0m\u001b[0m\n\u001b[0;32m     24\u001b[0m \u001b[1;31m#solution1_28()\u001b[0m\u001b[1;33m\u001b[0m\u001b[1;33m\u001b[0m\u001b[0m\n",
      "\u001b[1;31mTypeError\u001b[0m: list indices must be integers or slices, not tuple"
     ]
    }
   ],
   "source": [
    "# Try your answer to problem #28 here.\n",
    "# Remember that you can get an answer by running solution1_28()\n",
    "# You can run the solution code by removing the '#' below and\n",
    "# then running this cell.\n",
    "\n",
    "baseball = [[74, 180, 23.87],\n",
    "            [74, 215, 21.96],\n",
    "            [72, 210, 29.76],\n",
    "            [72, 210, 22.88],\n",
    "            [73, 188, 27.54],\n",
    "            [9969, 176, 41.91],\n",
    "            [69, 209, 19.98],\n",
    "            [71, 200, 24.55],\n",
    "            [76, 231, 24.91],\n",
    "            [71, 180, 28.23],\n",
    "            [73, 188, 29.17],\n",
    "            [73, 180, 24.69],\n",
    "            [74, 185, 21.83],\n",
    "            [74, 160, 22.76],\n",
    "            [69, 180, 25.12]]     \n",
    "\n",
    "height = np.array(baseball[:,0])\n",
    "\n",
    "#solution1_28()  "
   ]
  },
  {
   "cell_type": "code",
   "execution_count": 6,
   "metadata": {},
   "outputs": [],
   "source": [
    "import numpy as np"
   ]
  },
  {
   "cell_type": "markdown",
   "metadata": {},
   "source": [
    "### **Try the following problem #29**\n",
    "Lets put everything we have learned so far together here. You have now received information from the MLS. They have provided you with two lists. **positions** contains player positions as **GK, M, A, D** for goalkeeper, midfield, attack, or defense. The second list, **heights**, contains the integer value for each players height in centimeters. You think that the median height of goalkeepers is higher than that of other players on the field. Are you right?\n",
    "- Convert **height** and **positions**, which are regular lists, to numpy arrays and call them **np_heights** and **np_positions**.\n",
    "- Extract all the heights of goalkeepers. You can use a little trick here: use the **np_positions == 'GK** as an index for **np_heights**. Assign the results to **gk_heights**.\n",
    "- Extract the heights of all other players by using **np_positions != 'GK'** as an index for **np_heights** and assign this to **other_heights**.\n",
    "- Print out the median height of the goalkeepers using **np.median()**.\n",
    "- Do the same for the other positions.\n",
    "If you want to see the solution to this problem, run the code **solution1_29()** in an empty cell."
   ]
  },
  {
   "cell_type": "code",
   "execution_count": null,
   "metadata": {},
   "outputs": [],
   "source": [
    "# Try your answer to problem #29 here.\n",
    "# Remember that you can get an answer by running solution1_29()\n",
    "# You can run the solution code by removing the '#' below and\n",
    "# then running this cell.\n",
    "\n",
    "positions = ['GK', 'M', 'A', 'GK', 'GK', 'D', 'A', 'GK', 'D', 'M',\n",
    "             'M', 'GK', 'A', 'A', 'A', 'D', 'D', 'M', 'D', 'A',\n",
    "             'GK', 'A', 'M', 'M', 'D', 'A', 'M', 'D', 'A', 'M']\n",
    "heights = [191, 187, 188, 194, 192, 190, 177, 187, 171, 159,\n",
    "           185, 199, 185, 174, 177, 171, 159, 172, 171, 179,\n",
    "           195, 185, 184, 188, 174, 179, 176, 168, 166, 161]  \n",
    "\n",
    "solution1_29()  "
   ]
  },
  {
   "cell_type": "code",
   "execution_count": null,
   "metadata": {},
   "outputs": [],
   "source": []
  }
 ],
 "metadata": {
  "kernelspec": {
   "display_name": "Python 3 (ipykernel)",
   "language": "python",
   "name": "python3"
  },
  "language_info": {
   "codemirror_mode": {
    "name": "ipython",
    "version": 3
   },
   "file_extension": ".py",
   "mimetype": "text/x-python",
   "name": "python",
   "nbconvert_exporter": "python",
   "pygments_lexer": "ipython3",
   "version": "3.9.13"
  }
 },
 "nbformat": 4,
 "nbformat_minor": 2
}
