{
 "cells": [
  {
   "cell_type": "markdown",
   "metadata": {},
   "source": [
    "# **Solutions**\n",
    "- Run this cell before starting the notebook. You do not need to look at or understand the code. By running this, you will allow yourself to see solutions throughout the notebook as I ask you to solve problems."
   ]
  },
  {
   "cell_type": "code",
   "execution_count": 1,
   "metadata": {},
   "outputs": [
    {
     "ename": "ModuleNotFoundError",
     "evalue": "No module named 'course_solutions'",
     "output_type": "error",
     "traceback": [
      "\u001b[1;31m---------------------------------------------------------------------------\u001b[0m",
      "\u001b[1;31mModuleNotFoundError\u001b[0m                       Traceback (most recent call last)",
      "\u001b[1;32m~\\AppData\\Local\\Temp\\ipykernel_8200\\854927949.py\u001b[0m in \u001b[0;36m<module>\u001b[1;34m\u001b[0m\n\u001b[0;32m      4\u001b[0m \u001b[0mget_ipython\u001b[0m\u001b[1;33m(\u001b[0m\u001b[1;33m)\u001b[0m\u001b[1;33m.\u001b[0m\u001b[0msystem\u001b[0m\u001b[1;33m(\u001b[0m\u001b[1;34m'pip install --upgrade git+https://github.com/MTSUDataScience/DATA3500.git'\u001b[0m\u001b[1;33m)\u001b[0m\u001b[1;33m\u001b[0m\u001b[1;33m\u001b[0m\u001b[0m\n\u001b[0;32m      5\u001b[0m \u001b[1;33m\u001b[0m\u001b[0m\n\u001b[1;32m----> 6\u001b[1;33m \u001b[1;32mfrom\u001b[0m \u001b[0mcourse_solutions\u001b[0m\u001b[1;33m.\u001b[0m\u001b[0mData3500_ICPS\u001b[0m \u001b[1;32mimport\u001b[0m \u001b[1;33m*\u001b[0m\u001b[1;33m\u001b[0m\u001b[1;33m\u001b[0m\u001b[0m\n\u001b[0m",
      "\u001b[1;31mModuleNotFoundError\u001b[0m: No module named 'course_solutions'"
     ]
    }
   ],
   "source": [
    "%%capture\n",
    "%load_ext autoreload\n",
    "%autoreload 2\n",
    "\n",
    "!pip install --upgrade git+https://github.com/MTSUDataScience/DATA3500.git\n",
    "\n",
    "from course_solutions.Data3500_ICPS import *"
   ]
  },
  {
   "cell_type": "markdown",
   "metadata": {},
   "source": [
    "### **Try the following problem #1**\n",
    "\n",
    "Look at the two provided lists, **contries** and **capitals**.\n",
    "- Use the **index()** method on countries to find the index of **germany**. Store the index as **ind_ger**.\n",
    "- Use **ind_ger** to access the capital on Germany from the **capitals** list. Print it out.\n",
    "- Convert a dictionary with **countries** and **capitals** called **europe**.\n",
    "- Print out **europe** to see the result.\n",
    "- Examine which keys are in **europe** by calling the **keys()** method on **europe**. Print the results.\n",
    "- Print out the value that belongs to the key **norway**.\n",
    "\n",
    "If you want to see the solution to this problem, run the code **solution2_1()** in an empty cell."
   ]
  },
  {
   "cell_type": "code",
   "execution_count": null,
   "metadata": {},
   "outputs": [],
   "source": [
    "# Try your answer to problem #1 here.\n",
    "# Remember that you can get an answer by running solution2_1()\n",
    "# You can run the solution code by removing the '#' below and\n",
    "# then running this cell.\n",
    "\n",
    "countries = ['spain', 'france', 'germany', 'norway']\n",
    "capitals = ['madrid', 'paris', 'berlin', 'oslo']\n",
    "\n",
    "solution2_1()"
   ]
  },
  {
   "cell_type": "markdown",
   "metadata": {},
   "source": [
    "### **Try the following problem #2**\n",
    "\n",
    "We will continue working with the dictionary we just create, **europe**.\n",
    "- Add the key **italy** with the value **rome** to **europe**.\n",
    "- To assert that **italy** is now a key in **europe**, print out **italy** in **europe**.\n",
    "- Add another key:value pair to **europe**. **poland** is the key and **warsaw** is the value.\n",
    "- Print the updated **europe**.\n",
    "\n",
    "If you want to see the solution to this problem, run the code **solution2_2()** in an empty cell."
   ]
  },
  {
   "cell_type": "code",
   "execution_count": null,
   "metadata": {},
   "outputs": [],
   "source": [
    "# Try your answer to problem #2 here.\n",
    "# Remember that you can get an answer by running solution2_2()\n",
    "# You can run the solution code by removing the '#' below and\n",
    "# then running this cell.\n",
    "\n",
    "europe = {'spain':'madrid', 'france':'paris', 'germany':'berlin', 'norway':'oslo' }       \n",
    "    \n",
    "solution2_2()"
   ]
  },
  {
   "cell_type": "markdown",
   "metadata": {},
   "source": [
    "### **Try the following problem #3**\n",
    "\n",
    "Someone made some unwanted changes to your **europe** dicitionary which don't seem to be correct.\n",
    "- The capital of Germany is not **bonn**; it's **berlin**. Update its value.\n",
    "- Australia is not in Europe, Austria is. Remove the key **australia** from **europe**.\n",
    "- Print out **europe** to see if you've fixed the problems.\n",
    "\n",
    "If you want to see the solution to this problem, run the code **solution2_3()** in an empty cell."
   ]
  },
  {
   "cell_type": "code",
   "execution_count": null,
   "metadata": {},
   "outputs": [],
   "source": [
    "# Try your answer to problem #3 here.\n",
    "# Remember that you can get an answer by running solution2_3()\n",
    "# You can run the solution code by removing the '#' below and\n",
    "# then running this cell.\n",
    "\n",
    "europe = {'spain':'madrid', 'france':'paris', 'germany':'bonn',\n",
    "          'norway':'oslo', 'italy':'rome', 'poland':'warsaw',\n",
    "          'australia':'vienna'}\n",
    "    \n",
    "solution2_3()    "
   ]
  },
  {
   "cell_type": "markdown",
   "metadata": {},
   "source": [
    "### **Try the following problem #4**\n",
    "\n",
    "Dictionaries can contain lists as well. Look at the newly provided dictionary called **europe**. The keys are the country names, but the values now have more information than just the capital. To fetch the population for spain from **europe**, we can use **europe['spain']['population']\n",
    "- Use the chained square brackets to select and print out the capital of france.\n",
    "- Create a dictionary named **data**, with the keys **capital** and **population**. Set them to **rome** and **59.83.\n",
    "- Add a new key-value pair to **europe**; the key is **italy** and the value is **data**, the dictionary you just built.\n",
    "\n",
    "If you want to see the solution to this problem, run the code **solution2_4()** in an empty cell."
   ]
  },
  {
   "cell_type": "code",
   "execution_count": null,
   "metadata": {},
   "outputs": [],
   "source": [
    "# Try your answer to problem #4 here.\n",
    "# Remember that you can get an answer by running solution2_4()\n",
    "# You can run the solution code by removing the '#' below and\n",
    "# then running this cell.\n",
    "\n",
    "europe = { 'spain': { 'capital':'madrid', 'population':46.77 },\n",
    "           'france': { 'capital':'paris', 'population':66.03 },\n",
    "           'germany': { 'capital':'berlin', 'population':80.62 },\n",
    "           'norway': { 'capital':'oslo', 'population':5.084 } }\n",
    "    \n",
    "solution2_4()    "
   ]
  },
  {
   "cell_type": "markdown",
   "metadata": {},
   "source": [
    "### **Try the following problem #5**\n",
    "\n",
    "We will start by convertings lists to dictionaries. The list **names** contains country names, the list **dr** is a list of booleans that tells whether people drive on the right side of the rode in that country, and **cpc** is a list of the number of motor vehicles per 1000 people in that country.\n",
    "- Use the pre-defined lists to create a dictionary called **my_dict**. There should be three key:value pairs.\n",
    "    - key **country** and value **names.\n",
    "    - key **drives_right** and value **dr**.\n",
    "    - key **cars_per_cap** and value **cpc**.\n",
    "- Use pd.DataFrame() to turn your dict into a DataFrame called **cars**.\n",
    "- Print out **cars**.\n",
    "- Specify the row labels by setting **cars.index** equal to **row_labels**.\n",
    "- Reprint **cars**.\n",
    "\n",
    "If you want to see the solution to this problem, run the code **solution2_5()** in an empty cell."
   ]
  },
  {
   "cell_type": "code",
   "execution_count": null,
   "metadata": {},
   "outputs": [],
   "source": [
    "# Try your answer to problem #5 here.\n",
    "# Remember that you can get an answer by running solution2_5()\n",
    "# You can run the solution code by removing the '#' below and\n",
    "# then running this cell.\n",
    "\n",
    "names = ['United States', 'Australia', 'Japan', 'India', 'Russia', 'Morocco', 'Egypt']\n",
    "dr =  [True, False, False, False, True, True, True]\n",
    "cpc = [809, 731, 588, 18, 200, 70, 45]\n",
    "row_labels = ['US', 'AUS', 'JPN', 'IN', 'RU', 'MOR', 'EG']   \n",
    "    \n",
    "solution2_5()    "
   ]
  },
  {
   "cell_type": "markdown",
   "metadata": {},
   "source": [
    "### **Try the following problem #6**\n",
    "\n",
    "We cannot reasonable create a DataFrame from a dictionary if the dataset is large. We will create a DataFrame from a commo-separated values file, or CSV.\n",
    "- To import CSV files you still need the **pandas** package.\n",
    "- Use **pd.read_csv()** to import **driving.csv** data as a DataFrame. Store this data as **cars**.\n",
    "- Remember to specify that the index is in column 0.\n",
    "- Print out **cars**.\n",
    "\n",
    "If you want to see the solution to this problem, run the code **solution2_6()** in an empty cell."
   ]
  },
  {
   "cell_type": "code",
   "execution_count": null,
   "metadata": {},
   "outputs": [],
   "source": [
    "# Try your answer to problem #6 here.\n",
    "# Remember that you can get an answer by running solution2_6()\n",
    "# You can run the solution code by removing the '#' below and\n",
    "# then running this cell.\n",
    "\n",
    "solution2_6()    "
   ]
  },
  {
   "cell_type": "markdown",
   "metadata": {},
   "source": [
    "### **Try the following problem #7**\n",
    "\n",
    "Continue working with the driving dataset.\n",
    "- Use single square brackets to print out the **country** column of **cars** as a pandas Series.\n",
    "- Use double square brackets to print out the **country** column of **cars** as a pandas DataFrame.\n",
    "- Use double square brackets to print out a DataFrame with both **country** and **drives_right** columns.\n",
    "- Select the first 3 observations from **cars** and print them out.\n",
    "- Select the **fourth, fifth, and sixth** observation, corresponding to row indexes 3, 4, and 5 and print them.\n",
    "\n",
    "If you want to see the solution to this problem, run the code **solution2_7()** in an empty cell."
   ]
  },
  {
   "cell_type": "code",
   "execution_count": null,
   "metadata": {},
   "outputs": [
    {
     "ename": "NameError",
     "evalue": "name 'solution2_7' is not defined",
     "output_type": "error",
     "traceback": [
      "\u001b[1;31m---------------------------------------------------------------------------\u001b[0m",
      "\u001b[1;31mNameError\u001b[0m                                 Traceback (most recent call last)",
      "\u001b[1;32m~\\AppData\\Local\\Temp\\ipykernel_8200\\813577739.py\u001b[0m in \u001b[0;36m<module>\u001b[1;34m\u001b[0m\n\u001b[0;32m      4\u001b[0m \u001b[1;31m# then running this cell.\u001b[0m\u001b[1;33m\u001b[0m\u001b[1;33m\u001b[0m\u001b[0m\n\u001b[0;32m      5\u001b[0m \u001b[1;33m\u001b[0m\u001b[0m\n\u001b[1;32m----> 6\u001b[1;33m \u001b[0msolution2_7\u001b[0m\u001b[1;33m(\u001b[0m\u001b[1;33m)\u001b[0m\u001b[1;33m\u001b[0m\u001b[1;33m\u001b[0m\u001b[0m\n\u001b[0m",
      "\u001b[1;31mNameError\u001b[0m: name 'solution2_7' is not defined"
     ]
    }
   ],
   "source": [
    "# Try your answer to problem #7 here.\n",
    "# Remember that you can get an answer by running solution2_7()\n",
    "# You can run the solution code by removing the '#' below and\n",
    "# then running this cell.\n",
    "   \n",
    "solution2_7()    "
   ]
  },
  {
   "cell_type": "code",
   "execution_count": null,
   "metadata": {},
   "outputs": [],
   "source": []
  },
  {
   "cell_type": "markdown",
   "metadata": {},
   "source": [
    "### **Try the following problem #8**\n",
    "\n",
    "Continue working with the driving dataset, but this time we fill focus on loc and iloc.\n",
    "- Use **loc** or **iloc** to select the observation corresponding to Hong Kong as a Series. The label of this row in **HK**, the index is **2**. Print the result.\n",
    "- Use **loc** or **iloc** to select the observations for the United Kingdom and Luxembourg as a DataFrame. You can determine the labels/indexes of these rows by inspecting **cars**.\n",
    "- Print out the **drives_right** value of the row corresponding to Italy (row label **IT**)\n",
    "- Print out a DataFrame containing the observations for Russia and Italy and the columns **country** and **drives_right**.\n",
    "- Print out the **drives_right** column as a Series using **loc** or **iloc**.\n",
    "- Print out the **drives_right** column as a DataFrame using **loc** or **iloc**.\n",
    "- Print out both the **cars_per_cap** and **drives_right** column as a DataFrame using **loc** or **iloc**.\n",
    "\n",
    "If you want to see the solution to this problem, run the code **solution2_8()** in an empty cell."
   ]
  },
  {
   "cell_type": "code",
   "execution_count": null,
   "metadata": {},
   "outputs": [],
   "source": [
    "# Try your answer to problem #8 here.\n",
    "# Remember that you can get an answer by running solution2_8()\n",
    "# You can run the solution code by removing the '#' below and\n",
    "# then running this cell.\n",
    "\n",
    "solution2_8()    "
   ]
  },
  {
   "cell_type": "markdown",
   "metadata": {},
   "source": [
    "### **Try the following problem #9**\n",
    "\n",
    "Continue working with the driving dataset, but this time we fill focus on loc and iloc.\n",
    "- Extract the **drives_right** column as a pandas Series and store it as **dr**.\n",
    "- Use **dr**, a boolean Series, to subset the **cars** DataFrame. Store the results in **sel**.\n",
    "- Print **sel**, and confirm that **drives_right** is **True** for all observations.\n",
    "- Now accomplish the creation of **sel** with one line of code.\n",
    "- Select the **cars_per_cap** column as a Series and store it as **cpc**.\n",
    "- Use **cpc** with a comparison operator and **500**. End up with aboolean that is **True** is a country has a **cars_per_cap** of more than **500** and **False** otherwise. Store this in **many_cars**.\n",
    "- Use **many_cars** to subset **cars** and store it in **lots_of_cars** then print it out.\n",
    "- Create **middle** which includes all **cars_per_cap** between **100** and **500** then print it out. Try using .loc for the solution.\n",
    "\n",
    "If you want to see the solution to this problem, run the code **solution2_9()** in an empty cell."
   ]
  },
  {
   "cell_type": "code",
   "execution_count": null,
   "metadata": {},
   "outputs": [],
   "source": [
    "# Try your answer to problem #9 here.\n",
    "# Remember that you can get an answer by running solution2_9()\n",
    "# You can run the solution code by removing the '#' below and\n",
    "# then running this cell.\n",
    "\n",
    "solution2_9()    "
   ]
  },
  {
   "cell_type": "markdown",
   "metadata": {},
   "source": [
    "### **Try the following problem #10**\n",
    "\n",
    "We will work with simple while loops here.\n",
    "\n",
    "- Create a a variable called **addition** with a value of 0.\n",
    "- Code a **while** loop that runs as long as **addition** is not equal to **10**.\n",
    "- Within the **while** loop, print out the sentence **'adding...'**. Next, increase the value of **addition** by 1. You can do this with **addition = addition + 1**.\n",
    "- Finally, print **addition** each time it updates.\n",
    "- Create a new loop called **addition_plus** that contains the same as above and an **if-else** statement within it.\n",
    "- If **addition** is less than 4, you should increase **addition** by 1.\n",
    "- Else you should increase **addition** by 2.\n",
    "\n",
    "If you want to see the solution to this problem, run the code **solution2_10()** in an empty cell."
   ]
  },
  {
   "cell_type": "code",
   "execution_count": null,
   "metadata": {},
   "outputs": [],
   "source": [
    "# Try your answer to problem #10 here.\n",
    "# Remember that you can get an answer by running solution2_10()\n",
    "# You can run the solution code by removing the '#' below and\n",
    "# then running this cell.\n",
    "\n",
    "addition = 0\n",
    "\n",
    "solution2_10()    "
   ]
  },
  {
   "cell_type": "markdown",
   "metadata": {},
   "source": [
    "### **Try the following problem #11**\n",
    "\n",
    "We will work with for loops here.\n",
    "\n",
    "- Write a **for** loop that goes through each sublist of **work** and print out **the x is y sqm**, where x is the name of the area and y is the size of the area.\n",
    "\n",
    "If you want to see the solution to this problem, run the code **solution2_11()** in an empty cell."
   ]
  },
  {
   "cell_type": "code",
   "execution_count": null,
   "metadata": {},
   "outputs": [],
   "source": [
    "# Try your answer to problem #1 here.\n",
    "# Remember that you can get an answer by running solution2_11()\n",
    "# You can run the solution code by removing the '#' below and\n",
    "# then running this cell.\n",
    "\n",
    "work = [[\"office\", 11.25], \n",
    "         [\"breakroom\", 18.0], \n",
    "         [\"boardroom\", 20.0], \n",
    "         [\"corner office\", 18.75], \n",
    "         [\"bathroom\", 7.50]]\n",
    "        \n",
    "solution2_11()        "
   ]
  },
  {
   "cell_type": "markdown",
   "metadata": {},
   "source": [
    "### **Try the following problem #12**\n",
    "\n",
    "Looping over a DataFrame.\n",
    "\n",
    "- Write a **for** loop that iterates over the rows of **cars** and on each iteration perform two **print()** calls. First, price out the row label and then print out all the row contents.\n",
    "- Create a new **for** loop that prints the label and the cars per capita values.\n",
    "- Use a **for** loop to add a new column named **C_NAME** that contains the uppercase version of the **country** name. You can use the string method **upper()**. Print your result.\n",
    "- Finally, use **apply(str.upper)** to accomplish the same thing to a new column called **C_NAME_APPLY**.\n",
    "\n",
    "\n",
    "If you want to see the solution to this problem, run the code **solution2_9()** in an empty cell."
   ]
  },
  {
   "cell_type": "code",
   "execution_count": null,
   "metadata": {},
   "outputs": [],
   "source": [
    "# Try your answer to problem #12 here.\n",
    "# Remember that you can get an answer by running solution2_12()\n",
    "# You can run the solution code by removing the '#' below and\n",
    "# then running this cell.\n",
    "\n",
    "import pandas as pd\n",
    "\n",
    "solution2_12()"
   ]
  },
  {
   "cell_type": "markdown",
   "metadata": {},
   "source": [
    "### **Try the following problem #13**\n",
    "\n",
    "Use list comprehension.\n",
    "\n",
    "- Use the range of numbers from **0** to **9** as your iterable and **i** as your iterator variable. Write a list comprehension that produces a list of numbers consisting of the squared values of **i**.\n",
    "- Work with a nested list comprehnsion to solve this. In the innter list comprehension (the output expression of the nested list comprehension) create a list of values from **0** to **4** using **range()**. Use **c** as the iterator variable. In the iterable part of your nested list comprehension, use **range()** to count 5 rows (create a list of values from **0** to **4**). Use **r** as the iterator variable.\n",
    "\n",
    "If you want to see the solution to this problem, run the code **solution2_13()** in an empty cell."
   ]
  },
  {
   "cell_type": "code",
   "execution_count": null,
   "metadata": {},
   "outputs": [],
   "source": [
    "# Try your answer to problem #13 here.\n",
    "# Remember that you can get an answer by running solution2_13()\n",
    "# You can run the solution code by removing the '#' below and\n",
    "# then running this cell.\n",
    "    \n",
    "solution2_13()"
   ]
  },
  {
   "cell_type": "markdown",
   "metadata": {},
   "source": [
    "### **Try the following problem #14**\n",
    "\n",
    "We will work with **if** statements here.\n",
    "- Examine the **if** statement that prints out the following: 'Looking for the bathroom' if **room** equals **bath**.\n",
    "- Write another **if** statement that prints out 'It is dark' if **lights** are **0**.\n",
    "- Add an **else** and an **elif** statement to the second control structure so that 'It is kind of dark' is printed if **lights** are less than 3 and so that 'It is bright' is printed otherwise.\n",
    "\n",
    "If you want to see the solution to this problem, run the code **solution2_14()** in an empty cell."
   ]
  },
  {
   "cell_type": "code",
   "execution_count": null,
   "metadata": {},
   "outputs": [],
   "source": [
    "# Try your answer to problem #14 here.\n",
    "# Remember that you can get an answer by running solution2_14()\n",
    "# You can run the solution code by removing the '#' below and\n",
    "# then running this cell.\n",
    "\n",
    "# In the solution2_14() code, place the number of lights you want the answer for in the parentheses.\n",
    "# For example, solution2_14(1) will give you the solution if we have 1 light.\n",
    "\n",
    "room = 'bath'\n",
    "lights = 0\n",
    "\n",
    "solution2_14(3)    "
   ]
  },
  {
   "cell_type": "markdown",
   "metadata": {},
   "source": [
    "### **Try the following problem #15**\n",
    "\n",
    "Use list comprehension with conditionals.\n",
    "\n",
    "- You are given a list of strings called **members**. Using list comprehension, create a list that only includes the members of **member** that have at least 7 characters. Use **member** as the iterator variable in the list comprehension. For the conditional, use **len()** to evaluate the iterator variable.\n",
    "- Keep the string as-is if the number of characters is >= 7, else replace it with an empty string that is **''**.\n",
    "\n",
    "If you want to see the solution to this problem, run the code **solution2_15()** in an empty cell."
   ]
  },
  {
   "cell_type": "code",
   "execution_count": null,
   "metadata": {},
   "outputs": [],
   "source": [
    "# Try your answer to problem #15 here.\n",
    "# Remember that you can get an answer by running solution2_15()\n",
    "# You can run the solution code by removing the '#' below and\n",
    "# then running this cell.\n",
    "\n",
    "members = ['frank', 'samuel', 'merlin', 'alejando', 'lucas', 'brendan', 'george']\n",
    "\n",
    "solution2_15()    "
   ]
  },
  {
   "cell_type": "code",
   "execution_count": null,
   "metadata": {},
   "outputs": [],
   "source": []
  }
 ],
 "metadata": {
  "kernelspec": {
   "display_name": "Python 3 (ipykernel)",
   "language": "python",
   "name": "python3"
  },
  "language_info": {
   "codemirror_mode": {
    "name": "ipython",
    "version": 3
   },
   "file_extension": ".py",
   "mimetype": "text/x-python",
   "name": "python",
   "nbconvert_exporter": "python",
   "pygments_lexer": "ipython3",
   "version": "3.9.13"
  }
 },
 "nbformat": 4,
 "nbformat_minor": 2
}
